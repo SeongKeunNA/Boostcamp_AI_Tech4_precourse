{
 "cells": [
  {
   "cell_type": "code",
   "execution_count": 4,
   "id": "87a55b37",
   "metadata": {
    "scrolled": true
   },
   "outputs": [
    {
     "name": "stdout",
     "output_type": "stream",
     "text": [
      "[2, 3]\n",
      "[0, 1, 5]\n"
     ]
    }
   ],
   "source": [
    "def spam(eggs):\n",
    "    eggs.append(1)\n",
    "    eggs.append(5)\n",
    "    eggs = [2, 3]\n",
    "    print(eggs)\n",
    "    \n",
    "ham = [0]\n",
    "spam(ham)\n",
    "print(ham)"
   ]
  },
  {
   "cell_type": "code",
   "execution_count": 16,
   "id": "ad8649c2",
   "metadata": {},
   "outputs": [],
   "source": [
    "def swap_value(x, y):\n",
    "    temp = x\n",
    "    x = y\n",
    "    y = temp\n",
    "ex = [1, 2, 3, 4, 5]\n",
    "swap_value(ex[0], ex[1])\n",
    "ex"
   ]
  },
  {
   "cell_type": "code",
   "execution_count": 30,
   "id": "4100b52f",
   "metadata": {},
   "outputs": [
    {
     "data": {
      "text/plain": [
       "[2, 1, 3, 4, 5]"
      ]
     },
     "execution_count": 30,
     "metadata": {},
     "output_type": "execute_result"
    }
   ],
   "source": [
    "def swap_offset(offset_x, offset_y):\n",
    "    temp = ex[offset_x]\n",
    "    ex[offset_x] = ex[offset_y]\n",
    "    ex[offset_y] = temp\n",
    "ex = [1, 2, 3, 4, 5]\n",
    "swap_offset(0, 1)\n",
    "ex"
   ]
  },
  {
   "cell_type": "code",
   "execution_count": 33,
   "id": "b9673a61",
   "metadata": {},
   "outputs": [
    {
     "ename": "UnboundLocalError",
     "evalue": "local variable 'ex' referenced before assignment",
     "output_type": "error",
     "traceback": [
      "\u001b[1;31m---------------------------------------------------------------------------\u001b[0m",
      "\u001b[1;31mUnboundLocalError\u001b[0m                         Traceback (most recent call last)",
      "\u001b[1;32m~\\AppData\\Local\\Temp\\ipykernel_38436\\2809460783.py\u001b[0m in \u001b[0;36m<module>\u001b[1;34m\u001b[0m\n\u001b[0;32m      5\u001b[0m     \u001b[0mex\u001b[0m \u001b[1;33m=\u001b[0m \u001b[1;33m[\u001b[0m\u001b[1;33m]\u001b[0m\u001b[1;33m\u001b[0m\u001b[1;33m\u001b[0m\u001b[0m\n\u001b[0;32m      6\u001b[0m \u001b[0mex\u001b[0m \u001b[1;33m=\u001b[0m \u001b[1;33m[\u001b[0m\u001b[1;36m1\u001b[0m\u001b[1;33m,\u001b[0m \u001b[1;36m2\u001b[0m\u001b[1;33m,\u001b[0m \u001b[1;36m3\u001b[0m\u001b[1;33m,\u001b[0m \u001b[1;36m4\u001b[0m\u001b[1;33m,\u001b[0m \u001b[1;36m5\u001b[0m\u001b[1;33m]\u001b[0m\u001b[1;33m\u001b[0m\u001b[1;33m\u001b[0m\u001b[0m\n\u001b[1;32m----> 7\u001b[1;33m \u001b[0mswap_offset2\u001b[0m\u001b[1;33m(\u001b[0m\u001b[1;36m0\u001b[0m\u001b[1;33m,\u001b[0m \u001b[1;36m1\u001b[0m\u001b[1;33m)\u001b[0m\u001b[1;33m\u001b[0m\u001b[1;33m\u001b[0m\u001b[0m\n\u001b[0m\u001b[0;32m      8\u001b[0m \u001b[0mex\u001b[0m\u001b[1;33m\u001b[0m\u001b[1;33m\u001b[0m\u001b[0m\n",
      "\u001b[1;32m~\\AppData\\Local\\Temp\\ipykernel_38436\\2809460783.py\u001b[0m in \u001b[0;36mswap_offset2\u001b[1;34m(offset_x, offset_y)\u001b[0m\n\u001b[0;32m      1\u001b[0m \u001b[1;32mdef\u001b[0m \u001b[0mswap_offset2\u001b[0m\u001b[1;33m(\u001b[0m\u001b[0moffset_x\u001b[0m\u001b[1;33m,\u001b[0m \u001b[0moffset_y\u001b[0m\u001b[1;33m)\u001b[0m\u001b[1;33m:\u001b[0m\u001b[1;33m\u001b[0m\u001b[1;33m\u001b[0m\u001b[0m\n\u001b[1;32m----> 2\u001b[1;33m     \u001b[0mtemp\u001b[0m \u001b[1;33m=\u001b[0m \u001b[0mex\u001b[0m\u001b[1;33m[\u001b[0m\u001b[0moffset_x\u001b[0m\u001b[1;33m]\u001b[0m\u001b[1;33m\u001b[0m\u001b[1;33m\u001b[0m\u001b[0m\n\u001b[0m\u001b[0;32m      3\u001b[0m     \u001b[0mex\u001b[0m\u001b[1;33m[\u001b[0m\u001b[0moffset_x\u001b[0m\u001b[1;33m]\u001b[0m \u001b[1;33m=\u001b[0m \u001b[0mex\u001b[0m\u001b[1;33m[\u001b[0m\u001b[0moffset_y\u001b[0m\u001b[1;33m]\u001b[0m\u001b[1;33m\u001b[0m\u001b[1;33m\u001b[0m\u001b[0m\n\u001b[0;32m      4\u001b[0m     \u001b[0mex\u001b[0m\u001b[1;33m[\u001b[0m\u001b[0moffset_y\u001b[0m\u001b[1;33m]\u001b[0m \u001b[1;33m=\u001b[0m \u001b[0mtemp\u001b[0m\u001b[1;33m\u001b[0m\u001b[1;33m\u001b[0m\u001b[0m\n\u001b[0;32m      5\u001b[0m     \u001b[0mex\u001b[0m \u001b[1;33m=\u001b[0m \u001b[1;33m[\u001b[0m\u001b[1;33m]\u001b[0m\u001b[1;33m\u001b[0m\u001b[1;33m\u001b[0m\u001b[0m\n",
      "\u001b[1;31mUnboundLocalError\u001b[0m: local variable 'ex' referenced before assignment"
     ]
    }
   ],
   "source": [
    "def swap_offset2(offset_x, offset_y):\n",
    "    temp = ex[offset_x]\n",
    "    ex[offset_x] = ex[offset_y]\n",
    "    ex[offset_y] = temp\n",
    "    ex = []\n",
    "ex = [1, 2, 3, 4, 5]\n",
    "swap_offset2(0, 1)\n",
    "ex"
   ]
  },
  {
   "cell_type": "code",
   "execution_count": 19,
   "id": "e11211fd",
   "metadata": {},
   "outputs": [
    {
     "data": {
      "text/plain": [
       "[1, 2, 3, 5, 4]"
      ]
     },
     "execution_count": 19,
     "metadata": {},
     "output_type": "execute_result"
    }
   ],
   "source": [
    "def swap_reference(list_ex, offset_x, offset_y):\n",
    "    temp = list_ex[offset_x]\n",
    "    list_ex[offset_x] = list_ex[offset_y]\n",
    "    list_ex[offset_y] = temp\n",
    "ex = [1, 2, 3, 4, 5]\n",
    "swap_reference(ex, 3, 4)\n",
    "ex"
   ]
  },
  {
   "cell_type": "code",
   "execution_count": 34,
   "id": "b8248169",
   "metadata": {},
   "outputs": [
    {
     "data": {
      "text/plain": [
       "[1, 2, 3, 5, 4]"
      ]
     },
     "execution_count": 34,
     "metadata": {},
     "output_type": "execute_result"
    }
   ],
   "source": [
    "def swap_reference2(list_ex, offset_x, offset_y):\n",
    "    temp = list_ex[offset_x]\n",
    "    list_ex[offset_x] = list_ex[offset_y]\n",
    "    list_ex[offset_y] = temp\n",
    "    list_ex = [2, 3]\n",
    "ex = [1, 2, 3, 4, 5]\n",
    "swap_reference2(ex, 3, 4)\n",
    "ex"
   ]
  },
  {
   "cell_type": "code",
   "execution_count": 36,
   "id": "da09debc",
   "metadata": {},
   "outputs": [
    {
     "data": {
      "text/plain": [
       "[1, 2, 3, 4, 5]"
      ]
     },
     "execution_count": 36,
     "metadata": {},
     "output_type": "execute_result"
    }
   ],
   "source": [
    "def swap_reference2(list_ex, offset_x, offset_y):\n",
    "    temp_list = list_ex[:]\n",
    "    temp = temp_list[offset_x]\n",
    "    temp_list[offset_x] = temp_list[offset_y]\n",
    "    temp_list[offset_y] = temp\n",
    "ex = [1, 2, 3, 4, 5]\n",
    "swap_reference2(ex, 3, 4)\n",
    "ex"
   ]
  },
  {
   "cell_type": "code",
   "execution_count": 40,
   "id": "04c9a814",
   "metadata": {},
   "outputs": [
    {
     "name": "stdout",
     "output_type": "stream",
     "text": [
      "I love London!\n",
      "I love Paris?!\n"
     ]
    }
   ],
   "source": [
    "def f():\n",
    "    s = 'I love London!'\n",
    "    print(s)\n",
    "\n",
    "s = 'I love Paris?!'\n",
    "f()\n",
    "print(s)"
   ]
  },
  {
   "cell_type": "code",
   "execution_count": 41,
   "id": "ed54435f",
   "metadata": {},
   "outputs": [
    {
     "name": "stdout",
     "output_type": "stream",
     "text": [
      "I love London!\n",
      "I love London!\n"
     ]
    }
   ],
   "source": [
    "def f():\n",
    "    global s\n",
    "    s = 'I love London!'\n",
    "    print(s)\n",
    "\n",
    "s = 'I love Paris?!'\n",
    "f()\n",
    "print(s)"
   ]
  },
  {
   "cell_type": "markdown",
   "id": "b1e76d80",
   "metadata": {},
   "source": [
    "vscode에서 함수 선언 후 ctrl + shift + p로 docstring 자동 완성"
   ]
  },
  {
   "cell_type": "markdown",
   "id": "5cbe6c08",
   "metadata": {},
   "source": [
    "함수 선언 시 V_O (동사_목적어) 형태로 작성"
   ]
  },
  {
   "cell_type": "markdown",
   "id": "990f8ab6",
   "metadata": {},
   "source": [
    "인자로 받은 값 자체를 바꾸진 말 것(리스트는 [:]붙이기)"
   ]
  },
  {
   "cell_type": "code",
   "execution_count": null,
   "id": "e12c12b4",
   "metadata": {},
   "outputs": [],
   "source": []
  }
 ],
 "metadata": {
  "kernelspec": {
   "display_name": "Python 3 (ipykernel)",
   "language": "python",
   "name": "python3"
  },
  "language_info": {
   "codemirror_mode": {
    "name": "ipython",
    "version": 3
   },
   "file_extension": ".py",
   "mimetype": "text/x-python",
   "name": "python",
   "nbconvert_exporter": "python",
   "pygments_lexer": "ipython3",
   "version": "3.7.13"
  }
 },
 "nbformat": 4,
 "nbformat_minor": 5
}
