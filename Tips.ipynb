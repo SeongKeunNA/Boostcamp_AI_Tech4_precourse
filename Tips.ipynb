{
 "cells": [
  {
   "cell_type": "markdown",
   "id": "80bb0ecb",
   "metadata": {},
   "source": [
    "# Imports"
   ]
  },
  {
   "cell_type": "code",
   "execution_count": 2,
   "id": "aea1e5ab",
   "metadata": {},
   "outputs": [],
   "source": [
    "import torch\n",
    "import torch.nn as nn\n",
    "import torch.nn.functional as F\n",
    "import torch.optim as optim"
   ]
  },
  {
   "cell_type": "code",
   "execution_count": 3,
   "id": "fa5a5c12",
   "metadata": {},
   "outputs": [
    {
     "data": {
      "text/plain": [
       "<torch._C.Generator at 0x28bd92d6a90>"
      ]
     },
     "execution_count": 3,
     "metadata": {},
     "output_type": "execute_result"
    }
   ],
   "source": [
    "s"
   ]
  },
  {
   "cell_type": "code",
   "execution_count": 5,
   "id": "36c11c65",
   "metadata": {},
   "outputs": [],
   "source": [
    "x_train = torch.FloatTensor([[1, 2, 1],\n",
    "                             [1, 3, 2],\n",
    "                             [1, 3, 4],\n",
    "                             [1, 5, 5],\n",
    "                             [1, 7, 5],\n",
    "                              [1, 2, 5],\n",
    "                              [1, 6, 6],\n",
    "                              [1, 7, 7]\n",
    "                            ])\n",
    "y_train = torch.LongTensor([2, 2, 2, 1, 1, 1, 0, 0])"
   ]
  },
  {
   "cell_type": "code",
   "execution_count": 6,
   "id": "69718f0a",
   "metadata": {},
   "outputs": [],
   "source": [
    "x_test = torch.FloatTensor([[2, 1, 1], [3, 1, 2], [3, 3, 4]])\n",
    "y_test = torch.LongTensor([2, 2, 2])"
   ]
  },
  {
   "cell_type": "markdown",
   "id": "559f41f7",
   "metadata": {},
   "source": [
    "# Model"
   ]
  },
  {
   "cell_type": "code",
   "execution_count": 10,
   "id": "0812c246",
   "metadata": {},
   "outputs": [],
   "source": [
    "class SoftmaxClassifierModel(nn.Module):\n",
    "    def __init__(self):\n",
    "        super().__init__()\n",
    "        self.linear = nn.Linear(3, 3)\n",
    "    def forward(self, x):\n",
    "        return self.linear(x)"
   ]
  },
  {
   "cell_type": "code",
   "execution_count": 11,
   "id": "0266fa49",
   "metadata": {},
   "outputs": [],
   "source": [
    "model = SoftmaxClassifierModel()"
   ]
  },
  {
   "cell_type": "code",
   "execution_count": 12,
   "id": "958207fa",
   "metadata": {},
   "outputs": [],
   "source": [
    "optimizer = optim.SGD(model.parameters(), lr = 0.1)"
   ]
  },
  {
   "cell_type": "markdown",
   "id": "90c81441",
   "metadata": {},
   "source": [
    "# Training"
   ]
  },
  {
   "cell_type": "code",
   "execution_count": 22,
   "id": "c043007a",
   "metadata": {},
   "outputs": [],
   "source": [
    "def train(model, optimizer, x_train, y_train):\n",
    "    nb_epochs = 20 \n",
    "    for epoch in range(nb_epochs):\n",
    "        \n",
    "        prediction = model(x_train)\n",
    "        \n",
    "        cost = F.cross_entropy(prediction, y_train)\n",
    "        \n",
    "        optimizer.zero_grad()\n",
    "        cost.backward()\n",
    "        optimizer.step()\n",
    "        \n",
    "        print('Epoch {:4d} / {} Cost: {:.6f}'.format(epoch, nb_epochs, cost.item()))"
   ]
  },
  {
   "cell_type": "markdown",
   "id": "919d3327",
   "metadata": {},
   "source": [
    "# Test(validation)"
   ]
  },
  {
   "cell_type": "code",
   "execution_count": 26,
   "id": "970f8655",
   "metadata": {},
   "outputs": [],
   "source": [
    "def test(model, optimizer, x_test, y_test):\n",
    "    prediction = model(x_test)\n",
    "    predicted_classes = prediction.max(1)[1]\n",
    "    correct_count = (predicted_classes == y_test).sum().item()\n",
    "    cost = F.cross_entropy(prediction, y_test)\n",
    "    \n",
    "    print('Accuracy: {}% Cost: {:.6f}'.format(correct_count / len(y_test) * 100, cost.item()))"
   ]
  },
  {
   "cell_type": "markdown",
   "id": "ab2814cb",
   "metadata": {},
   "source": [
    "# run"
   ]
  },
  {
   "cell_type": "code",
   "execution_count": 24,
   "id": "6ec852ae",
   "metadata": {},
   "outputs": [
    {
     "name": "stdout",
     "output_type": "stream",
     "text": [
      "Epoch    0 / 20 Cost: 1.142985\n",
      "Epoch    1 / 20 Cost: 1.117769\n",
      "Epoch    2 / 20 Cost: 1.100901\n",
      "Epoch    3 / 20 Cost: 1.089523\n",
      "Epoch    4 / 20 Cost: 1.079872\n",
      "Epoch    5 / 20 Cost: 1.071320\n",
      "Epoch    6 / 20 Cost: 1.063325\n",
      "Epoch    7 / 20 Cost: 1.055720\n",
      "Epoch    8 / 20 Cost: 1.048378\n",
      "Epoch    9 / 20 Cost: 1.041245\n",
      "Epoch   10 / 20 Cost: 1.034285\n",
      "Epoch   11 / 20 Cost: 1.027478\n",
      "Epoch   12 / 20 Cost: 1.020813\n",
      "Epoch   13 / 20 Cost: 1.014279\n",
      "Epoch   14 / 20 Cost: 1.007872\n",
      "Epoch   15 / 20 Cost: 1.001586\n",
      "Epoch   16 / 20 Cost: 0.995419\n",
      "Epoch   17 / 20 Cost: 0.989365\n",
      "Epoch   18 / 20 Cost: 0.983424\n",
      "Epoch   19 / 20 Cost: 0.977591\n"
     ]
    }
   ],
   "source": [
    "train(model, optimizer, x_train, y_train)"
   ]
  },
  {
   "cell_type": "code",
   "execution_count": 27,
   "id": "4fd02833",
   "metadata": {},
   "outputs": [
    {
     "name": "stdout",
     "output_type": "stream",
     "text": [
      "Accuracy: 0.0% Cost: 1.346748\n"
     ]
    }
   ],
   "source": [
    "test(model, optimizer, x_test, y_test)"
   ]
  },
  {
   "cell_type": "markdown",
   "id": "3c78ca1d",
   "metadata": {},
   "source": [
    "# Learning Rate"
   ]
  },
  {
   "cell_type": "code",
   "execution_count": 33,
   "id": "ed3d2633",
   "metadata": {},
   "outputs": [],
   "source": [
    "model = SoftmaxClassifierModel()"
   ]
  },
  {
   "cell_type": "code",
   "execution_count": 29,
   "id": "be77cd9c",
   "metadata": {},
   "outputs": [],
   "source": [
    "optimizer = optim.SGD(model.parameters(), lr = 1e5)"
   ]
  },
  {
   "cell_type": "code",
   "execution_count": 30,
   "id": "943b59e7",
   "metadata": {},
   "outputs": [
    {
     "name": "stdout",
     "output_type": "stream",
     "text": [
      "Epoch    0 / 20 Cost: 1.280268\n",
      "Epoch    1 / 20 Cost: 976950.812500\n",
      "Epoch    2 / 20 Cost: 1279135.125000\n",
      "Epoch    3 / 20 Cost: 1198379.000000\n",
      "Epoch    4 / 20 Cost: 1098825.875000\n",
      "Epoch    5 / 20 Cost: 1968197.625000\n",
      "Epoch    6 / 20 Cost: 284763.250000\n",
      "Epoch    7 / 20 Cost: 1532260.125000\n",
      "Epoch    8 / 20 Cost: 1651504.000000\n",
      "Epoch    9 / 20 Cost: 521878.437500\n",
      "Epoch   10 / 20 Cost: 1397263.250000\n",
      "Epoch   11 / 20 Cost: 750986.250000\n",
      "Epoch   12 / 20 Cost: 918691.500000\n",
      "Epoch   13 / 20 Cost: 1487888.250000\n",
      "Epoch   14 / 20 Cost: 1582260.125000\n",
      "Epoch   15 / 20 Cost: 685818.062500\n",
      "Epoch   16 / 20 Cost: 1140048.750000\n",
      "Epoch   17 / 20 Cost: 940566.500000\n",
      "Epoch   18 / 20 Cost: 931638.250000\n",
      "Epoch   19 / 20 Cost: 1971322.625000\n"
     ]
    }
   ],
   "source": [
    "train(model, optimizer, x_train, y_train)"
   ]
  },
  {
   "cell_type": "code",
   "execution_count": 33,
   "id": "2f23a8f1",
   "metadata": {},
   "outputs": [],
   "source": [
    "model = SoftmaxClassifierModel()"
   ]
  },
  {
   "cell_type": "code",
   "execution_count": 34,
   "id": "70b1fa8e",
   "metadata": {},
   "outputs": [],
   "source": [
    "optimizer = optim.SGD(model.parameters(), lr = 1e-10)"
   ]
  },
  {
   "cell_type": "code",
   "execution_count": 35,
   "id": "0449441b",
   "metadata": {},
   "outputs": [
    {
     "name": "stdout",
     "output_type": "stream",
     "text": [
      "Epoch    0 / 20 Cost: 3.187324\n",
      "Epoch    1 / 20 Cost: 3.187324\n",
      "Epoch    2 / 20 Cost: 3.187324\n",
      "Epoch    3 / 20 Cost: 3.187324\n",
      "Epoch    4 / 20 Cost: 3.187324\n",
      "Epoch    5 / 20 Cost: 3.187324\n",
      "Epoch    6 / 20 Cost: 3.187324\n",
      "Epoch    7 / 20 Cost: 3.187324\n",
      "Epoch    8 / 20 Cost: 3.187324\n",
      "Epoch    9 / 20 Cost: 3.187324\n",
      "Epoch   10 / 20 Cost: 3.187324\n",
      "Epoch   11 / 20 Cost: 3.187324\n",
      "Epoch   12 / 20 Cost: 3.187324\n",
      "Epoch   13 / 20 Cost: 3.187324\n",
      "Epoch   14 / 20 Cost: 3.187324\n",
      "Epoch   15 / 20 Cost: 3.187324\n",
      "Epoch   16 / 20 Cost: 3.187324\n",
      "Epoch   17 / 20 Cost: 3.187324\n",
      "Epoch   18 / 20 Cost: 3.187324\n",
      "Epoch   19 / 20 Cost: 3.187324\n"
     ]
    }
   ],
   "source": [
    "train(model, optimizer, x_train, y_train)"
   ]
  },
  {
   "cell_type": "code",
   "execution_count": 38,
   "id": "317d02f6",
   "metadata": {},
   "outputs": [],
   "source": [
    "model = SoftmaxClassifierModel()"
   ]
  },
  {
   "cell_type": "code",
   "execution_count": 39,
   "id": "1a5a280c",
   "metadata": {},
   "outputs": [],
   "source": [
    "optimizer = optim.SGD(model.parameters(), lr = 1e-1)"
   ]
  },
  {
   "cell_type": "code",
   "execution_count": 40,
   "id": "0142b54e",
   "metadata": {},
   "outputs": [
    {
     "name": "stdout",
     "output_type": "stream",
     "text": [
      "Epoch    0 / 20 Cost: 1.341574\n",
      "Epoch    1 / 20 Cost: 1.198802\n",
      "Epoch    2 / 20 Cost: 1.150877\n",
      "Epoch    3 / 20 Cost: 1.131977\n",
      "Epoch    4 / 20 Cost: 1.116242\n",
      "Epoch    5 / 20 Cost: 1.102514\n",
      "Epoch    6 / 20 Cost: 1.089676\n",
      "Epoch    7 / 20 Cost: 1.077479\n",
      "Epoch    8 / 20 Cost: 1.065775\n",
      "Epoch    9 / 20 Cost: 1.054511\n",
      "Epoch   10 / 20 Cost: 1.043655\n",
      "Epoch   11 / 20 Cost: 1.033187\n",
      "Epoch   12 / 20 Cost: 1.023091\n",
      "Epoch   13 / 20 Cost: 1.013356\n",
      "Epoch   14 / 20 Cost: 1.003968\n",
      "Epoch   15 / 20 Cost: 0.994917\n",
      "Epoch   16 / 20 Cost: 0.986189\n",
      "Epoch   17 / 20 Cost: 0.977775\n",
      "Epoch   18 / 20 Cost: 0.969661\n",
      "Epoch   19 / 20 Cost: 0.961836\n"
     ]
    }
   ],
   "source": [
    "train(model, optimizer, x_train, y_train)"
   ]
  },
  {
   "cell_type": "markdown",
   "id": "ee8c5196",
   "metadata": {},
   "source": [
    "# Data Preprocessing"
   ]
  },
  {
   "cell_type": "code",
   "execution_count": 41,
   "id": "985cdd37",
   "metadata": {},
   "outputs": [],
   "source": [
    "x_train = torch.FloatTensor([[73, 80, 75],\n",
    "                            [93, 88, 93],\n",
    "                            [89, 91, 90],\n",
    "                            [96, 98, 100],\n",
    "                            [73, 66, 70]])\n",
    "y_train = torch.FloatTensor([[152], [185], [180], [196], [142]])"
   ]
  },
  {
   "cell_type": "code",
   "execution_count": 42,
   "id": "d8b035cf",
   "metadata": {},
   "outputs": [],
   "source": [
    "mu = x_train.mean(0)\n",
    "sigma = x_train.std(0)\n",
    "norm_x_train = (x_train - mu) / sigma"
   ]
  },
  {
   "cell_type": "code",
   "execution_count": 43,
   "id": "2a65c1d4",
   "metadata": {},
   "outputs": [
    {
     "name": "stdout",
     "output_type": "stream",
     "text": [
      "tensor([[-1.0674, -0.3758, -0.8398],\n",
      "        [ 0.7418,  0.2778,  0.5863],\n",
      "        [ 0.3799,  0.5229,  0.3486],\n",
      "        [ 1.0132,  1.0948,  1.1409],\n",
      "        [-1.0674, -1.5197, -1.2360]])\n"
     ]
    }
   ],
   "source": [
    "print(norm_x_train) # ~N(0,1)"
   ]
  },
  {
   "cell_type": "code",
   "execution_count": 45,
   "id": "e7d8dcea",
   "metadata": {},
   "outputs": [],
   "source": [
    "class MultivariateLinearRegressionrModel(nn.Module):\n",
    "    def __init__(self):\n",
    "        super().__init__()\n",
    "        self.linear = nn.Linear(3, 1)\n",
    "        \n",
    "    def forward(self, x):\n",
    "        return self.linear(x)"
   ]
  },
  {
   "cell_type": "code",
   "execution_count": 46,
   "id": "60fdcc22",
   "metadata": {},
   "outputs": [],
   "source": [
    "model = MultivariateLinearRegressionrModel()"
   ]
  },
  {
   "cell_type": "code",
   "execution_count": 47,
   "id": "f5f7c299",
   "metadata": {},
   "outputs": [],
   "source": [
    "optimizer = optim.SGD(model.parameters(), lr = 1e-1)"
   ]
  },
  {
   "cell_type": "code",
   "execution_count": 50,
   "id": "7522fc16",
   "metadata": {},
   "outputs": [],
   "source": [
    "def train(model, optimizer, x_train, y_train):\n",
    "    nb_epochs = 20 \n",
    "    for epoch in range(nb_epochs):\n",
    "        \n",
    "        prediction = model(x_train)\n",
    "        \n",
    "        cost = F.mse_loss(prediction, y_train)\n",
    "        \n",
    "        optimizer.zero_grad()\n",
    "        cost.backward()\n",
    "        optimizer.step()\n",
    "        \n",
    "        print('Epoch {:4d} / {} Cost: {:.6f}'.format(epoch, nb_epochs, cost.item()))"
   ]
  },
  {
   "cell_type": "code",
   "execution_count": 51,
   "id": "59872581",
   "metadata": {},
   "outputs": [
    {
     "name": "stdout",
     "output_type": "stream",
     "text": [
      "Epoch    0 / 20 Cost: 29785.089844\n",
      "Epoch    1 / 20 Cost: 18906.166016\n",
      "Epoch    2 / 20 Cost: 12054.675781\n",
      "Epoch    3 / 20 Cost: 7702.029785\n",
      "Epoch    4 / 20 Cost: 4925.733398\n",
      "Epoch    5 / 20 Cost: 3151.632812\n",
      "Epoch    6 / 20 Cost: 2016.996094\n",
      "Epoch    7 / 20 Cost: 1291.051270\n",
      "Epoch    8 / 20 Cost: 826.505249\n",
      "Epoch    9 / 20 Cost: 529.207397\n",
      "Epoch   10 / 20 Cost: 338.934174\n",
      "Epoch   11 / 20 Cost: 217.153564\n",
      "Epoch   12 / 20 Cost: 139.206680\n",
      "Epoch   13 / 20 Cost: 89.313782\n",
      "Epoch   14 / 20 Cost: 57.375465\n",
      "Epoch   15 / 20 Cost: 36.928429\n",
      "Epoch   16 / 20 Cost: 23.835773\n",
      "Epoch   17 / 20 Cost: 15.450429\n",
      "Epoch   18 / 20 Cost: 10.077809\n",
      "Epoch   19 / 20 Cost: 6.633700\n"
     ]
    }
   ],
   "source": [
    "train(model, optimizer, norm_x_train, y_train)"
   ]
  }
 ],
 "metadata": {
  "kernelspec": {
   "display_name": "Python 3 (ipykernel)",
   "language": "python",
   "name": "python3"
  },
  "language_info": {
   "codemirror_mode": {
    "name": "ipython",
    "version": 3
   },
   "file_extension": ".py",
   "mimetype": "text/x-python",
   "name": "python",
   "nbconvert_exporter": "python",
   "pygments_lexer": "ipython3",
   "version": "3.7.13"
  }
 },
 "nbformat": 4,
 "nbformat_minor": 5
}
