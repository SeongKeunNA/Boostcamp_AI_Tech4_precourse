{
 "cells": [
  {
   "cell_type": "markdown",
   "id": "78f834e0",
   "metadata": {},
   "source": [
    "# 디지몬 클래스"
   ]
  },
  {
   "cell_type": "code",
   "execution_count": 62,
   "id": "0314b29f",
   "metadata": {},
   "outputs": [],
   "source": [
    "class Digimon():\n",
    "    def __init__(self, name : str, level: str, attribute: str, size : int, attacks : list):\n",
    "        self.name = name\n",
    "        self.level = level\n",
    "        self.attribute = attribute\n",
    "        self.size = size\n",
    "        self.attacks = attacks\n",
    "        \n",
    "    def __str__(self):\n",
    "        return \"Hello, My name is %s. I'm %s.\" %  (self.name, self.level)\n",
    "    \n",
    "    def __add__(self, other):\n",
    "        return self.size + other.size\n",
    "    \n",
    "    def attacks1(self):\n",
    "        print(self.attacks[0] + '!')"
   ]
  },
  {
   "cell_type": "code",
   "execution_count": 63,
   "id": "d97f11ea",
   "metadata": {},
   "outputs": [],
   "source": [
    "Agumon = Digimon('Augumon', 'Rookie', 'Vaccine,', 20, ['Pepper Breath', 'Sharp Claws'])"
   ]
  },
  {
   "cell_type": "code",
   "execution_count": 64,
   "id": "d6930576",
   "metadata": {},
   "outputs": [
    {
     "name": "stdout",
     "output_type": "stream",
     "text": [
      "Hello, My name is Augumon. I'm Rookie.\n"
     ]
    }
   ],
   "source": [
    "print(Agumon)"
   ]
  },
  {
   "cell_type": "code",
   "execution_count": 65,
   "id": "0cb6b314",
   "metadata": {},
   "outputs": [],
   "source": [
    "Gomamon = Digimon('Gomamon', 'Rookie', 'Vaccine', 20, ['Fish Power', 'Claw Attack'])"
   ]
  },
  {
   "cell_type": "code",
   "execution_count": 66,
   "id": "3e7a3a01",
   "metadata": {},
   "outputs": [
    {
     "data": {
      "text/plain": [
       "40"
      ]
     },
     "execution_count": 66,
     "metadata": {},
     "output_type": "execute_result"
    }
   ],
   "source": [
    "Agumon + Gomamon"
   ]
  },
  {
   "cell_type": "code",
   "execution_count": 67,
   "id": "d1c26a0e",
   "metadata": {},
   "outputs": [
    {
     "name": "stdout",
     "output_type": "stream",
     "text": [
      "Hello, My name is Gomamon. I'm Rookie.\n"
     ]
    }
   ],
   "source": [
    "print(Gomamon)"
   ]
  },
  {
   "cell_type": "code",
   "execution_count": 68,
   "id": "b457ad42",
   "metadata": {},
   "outputs": [],
   "source": [
    "Gomamon.size = 10"
   ]
  },
  {
   "cell_type": "code",
   "execution_count": 69,
   "id": "6cf2af30",
   "metadata": {},
   "outputs": [
    {
     "data": {
      "text/plain": [
       "10"
      ]
     },
     "execution_count": 69,
     "metadata": {},
     "output_type": "execute_result"
    }
   ],
   "source": [
    "Gomamon.size"
   ]
  },
  {
   "cell_type": "code",
   "execution_count": 73,
   "id": "5fc2f278",
   "metadata": {},
   "outputs": [
    {
     "name": "stdout",
     "output_type": "stream",
     "text": [
      "Fish Power!\n"
     ]
    }
   ],
   "source": [
    "Gomamon.attacks1()"
   ]
  },
  {
   "cell_type": "code",
   "execution_count": 76,
   "id": "94349841",
   "metadata": {},
   "outputs": [
    {
     "name": "stdout",
     "output_type": "stream",
     "text": [
      "Pepper Breath!\n"
     ]
    }
   ],
   "source": [
    "Agumon.attacks1()"
   ]
  },
  {
   "cell_type": "markdown",
   "id": "e0899d49",
   "metadata": {},
   "source": [
    "# 구현 가능한 OOP 만들기"
   ]
  },
  {
   "cell_type": "markdown",
   "id": "ea53756a",
   "metadata": {},
   "source": [
    "## 구현 전 생각"
   ]
  },
  {
   "cell_type": "code",
   "execution_count": null,
   "id": "534871c9",
   "metadata": {},
   "outputs": [],
   "source": [
    "\"\"\"\"\"\"\"\"\"\"\n",
    "1. Notebook\n",
    "attr: pages\n",
    "method: add_note, add_note_books(__add__)\n",
    "\n",
    "2. Note\n",
    "attr: Content\n",
    "method: write_content, remove_content\n",
    "\"\"\"\"\"\"\"\"\"\""
   ]
  },
  {
   "cell_type": "markdown",
   "id": "d87a39eb",
   "metadata": {},
   "source": [
    "## 예시"
   ]
  },
  {
   "cell_type": "code",
   "execution_count": 77,
   "id": "c715a288",
   "metadata": {
    "collapsed": true
   },
   "outputs": [
    {
     "ename": "SyntaxError",
     "evalue": "EOL while scanning string literal (4196519109.py, line 9)",
     "output_type": "error",
     "traceback": [
      "\u001b[1;36m  File \u001b[1;32m\"C:\\Users\\najonggeun\\AppData\\Local\\Temp\\ipykernel_11416\\4196519109.py\"\u001b[1;36m, line \u001b[1;32m9\u001b[0m\n\u001b[1;33m    \"\"\"\"\"\"\"\"\"\"\u001b[0m\n\u001b[1;37m              \n^\u001b[0m\n\u001b[1;31mSyntaxError\u001b[0m\u001b[1;31m:\u001b[0m EOL while scanning string literal\n"
     ]
    }
   ],
   "source": [
    "\"\"\"\"\"\"\"\"\"\"\n",
    "1. Notebook\n",
    "method: add_note, remove_note, get_number_of_pages\n",
    "variable: title, page_number, notes\n",
    "\n",
    "2. Note\n",
    "method: write_content, remove_all\n",
    "variable: content\n",
    "\"\"\"\"\"\"\"\"\"\""
   ]
  },
  {
   "cell_type": "markdown",
   "id": "8d2d4409",
   "metadata": {},
   "source": [
    "## 구현"
   ]
  },
  {
   "cell_type": "code",
   "execution_count": 82,
   "id": "a49cbf79",
   "metadata": {},
   "outputs": [],
   "source": [
    "class Notebook(): \n",
    "    def __init__(self, title : str):\n",
    "        self.title = title\n",
    "        self.page_number = 1\n",
    "        self.notes = {}\n",
    "    \n",
    "    def add_note(self, note, page = 0):\n",
    "        if self.page_number < 300:\n",
    "            if page == 0:\n",
    "                self.notes[self.page_number] = note\n",
    "                self.page_number += 1\n",
    "            else:\n",
    "                self.notes[page] =  note\n",
    "                self.page_number += 1\n",
    "        else:\n",
    "            print('노트를 더 이상 삽입할 공간이 없습니다.')\n",
    "\n",
    "    def remove_note(self, page_number):\n",
    "        if page_number in self.notes.keys():\n",
    "            return self.notes.pop(page_number)\n",
    "        else:\n",
    "            print('해당하는 페이지는 존재하지 않습니다.')\n",
    "            \n",
    "    def get_number_of_pages(self):\n",
    "        return len(self.notes.keys())"
   ]
  },
  {
   "cell_type": "code",
   "execution_count": 83,
   "id": "79dd4c63",
   "metadata": {},
   "outputs": [],
   "source": [
    "class Note():\n",
    "    def __init__(self, content:str):\n",
    "        self.content = content\n",
    "        \n",
    "    def write_content(self, writing):\n",
    "        self.content = writing\n",
    "        \n",
    "    def remove_all(self):\n",
    "        self.content = None\n",
    "    def __add(self, other):\n",
    "        return self.content + other.content\n",
    "    \n",
    "    def __str__(self):\n",
    "        return self.content"
   ]
  },
  {
   "cell_type": "markdown",
   "id": "93746204",
   "metadata": {},
   "source": [
    "# Inheritance example"
   ]
  },
  {
   "cell_type": "code",
   "execution_count": 103,
   "id": "2bdc0d71",
   "metadata": {},
   "outputs": [],
   "source": [
    "class Worker():\n",
    "    global minerals, gas, now_supply, max_supply, now_buildings, buildings\n",
    "    \n",
    "    def __init__(self, defense, armor, cost_minerals, cost_gas, cost_supply, ground_damage):\n",
    "        self.defense = defense\n",
    "        self.armor = armor\n",
    "        self.cost_minerals = cost_minerals\n",
    "        self.cost_gas = cost_gas\n",
    "        self.cost_supply = cost_supply\n",
    "        self.ground_damage = ground_damage\n",
    "        \n",
    "    def mine_minerals(self, mineral):\n",
    "        minerals += 8\n",
    "        \n",
    "    def mine_gas(self, gas):\n",
    "        gas += 8\n",
    "    \n",
    "    def attack(self, target):\n",
    "        target.defense -= 5\n",
    "        \n",
    "    def get_current_info(self):\n",
    "        print('now defense = %d, now_armor = %d' % (self.defense, self.armor))"
   ]
  },
  {
   "cell_type": "code",
   "execution_count": 107,
   "id": "c24e9959",
   "metadata": {},
   "outputs": [],
   "source": [
    "class Drone(Worker):\n",
    "    global minerals, gas, now_supply, max_supply, now_buildings, buildings\n",
    "\n",
    "    def __init__(self, defense, armor, cost_minerals, cost_gas, cost_supply, ground_damage, zerg_range_attack_up, zerg_armor_up):\n",
    "        super().__init__(defense, armor, cost_minerals, cost_gas, cost_supply, ground_damage)\n",
    "        self.zerg_range_attack_up = zerg_range_attack_up\n",
    "        self.zerg_armor_up = zerg_armor_up\n",
    "        \n",
    "    def get_current_info(self):\n",
    "        super().get_current_info()\n",
    "        return 'now_zerg_range_attack_up = %d, now_zerg_armor_up = %d' % (self.zerg_range_attack_up, self.zerg_armor_up)\n",
    "        "
   ]
  },
  {
   "cell_type": "code",
   "execution_count": 108,
   "id": "1d62d374",
   "metadata": {},
   "outputs": [],
   "source": [
    "drone1 = Drone(40, 0, 50, 0, 1, 5, 0, 0)"
   ]
  },
  {
   "cell_type": "code",
   "execution_count": 109,
   "id": "2e46d577",
   "metadata": {},
   "outputs": [
    {
     "name": "stdout",
     "output_type": "stream",
     "text": [
      "now defense = 40, now_armor = 0\n",
      "now_zerg_range_attack_up = 0, now_zerg_armor_up = 0\n"
     ]
    }
   ],
   "source": [
    "print(drone1.get_current_info())"
   ]
  },
  {
   "cell_type": "markdown",
   "id": "55225461",
   "metadata": {},
   "source": [
    "# Polymorphism example"
   ]
  },
  {
   "cell_type": "code",
   "execution_count": 1,
   "id": "3a35294e",
   "metadata": {},
   "outputs": [],
   "source": [
    "import random"
   ]
  },
  {
   "cell_type": "code",
   "execution_count": 2,
   "id": "96705c05",
   "metadata": {},
   "outputs": [],
   "source": [
    "class Unit():\n",
    "    pass\n",
    "\n",
    "class Terran_Unit(Unit):\n",
    "    def __init__(self, num):\n",
    "        self.num = num\n",
    "    \n",
    "    def quotes_selected(self):\n",
    "        raise NotImplementedError('Subclass must implement abstract method')\n",
    "        \n",
    "    def quotes_confirming_order(self):\n",
    "        raise NotImplementedError('Subclass must implement abstract method')"
   ]
  },
  {
   "cell_type": "code",
   "execution_count": 30,
   "id": "4bb8207b",
   "metadata": {},
   "outputs": [],
   "source": [
    "class Marine(Terran_Unit):\n",
    "    def __init__(self, pos_x, pos_y):\n",
    "        self.pos_x = pos_x\n",
    "        self.pos_y = pos_y\n",
    "        \n",
    "    def __str__(self):\n",
    "        return \"You wanna piece of me boy?\"\n",
    "        \n",
    "    def quotes_selected(self):\n",
    "        return \"Commandor?\"\n",
    "        \n",
    "    def quotes_confirming_order(self):\n",
    "        return \"Go go go!\""
   ]
  },
  {
   "cell_type": "code",
   "execution_count": 31,
   "id": "3b004316",
   "metadata": {},
   "outputs": [],
   "source": [
    "class Medic(Terran_Unit):\n",
    "    def __init__(self, pos_x, pos_y):\n",
    "        self.pos_x = pos_x\n",
    "        self.pos_y = pos_y\n",
    "        \n",
    "    def __str__(self):\n",
    "        return \"Prepped and ready.\"\n",
    "        \n",
    "    def quotes_selected(self):\n",
    "        return \"Need medical attention?\"\n",
    "        \n",
    "    def quotes_confirming_order(self):\n",
    "        return \" Right away.\""
   ]
  },
  {
   "cell_type": "code",
   "execution_count": 32,
   "id": "a10f7e25",
   "metadata": {},
   "outputs": [],
   "source": [
    "marine1 = Marine(30, 217)"
   ]
  },
  {
   "cell_type": "code",
   "execution_count": 6,
   "id": "48f90f70",
   "metadata": {},
   "outputs": [
    {
     "name": "stdout",
     "output_type": "stream",
     "text": [
      "You wanna piece of me boy?\n"
     ]
    }
   ],
   "source": [
    "print(marine1)"
   ]
  },
  {
   "cell_type": "code",
   "execution_count": 8,
   "id": "34f1ccd8",
   "metadata": {},
   "outputs": [
    {
     "name": "stdout",
     "output_type": "stream",
     "text": [
      "Commandor?\n"
     ]
    }
   ],
   "source": [
    "print(marine1.quotes_selected())"
   ]
  },
  {
   "cell_type": "code",
   "execution_count": 9,
   "id": "81efba91",
   "metadata": {},
   "outputs": [
    {
     "name": "stdout",
     "output_type": "stream",
     "text": [
      "Go go go!\n"
     ]
    }
   ],
   "source": [
    "print(marine1.quotes_confirming_order())"
   ]
  },
  {
   "cell_type": "code",
   "execution_count": 12,
   "id": "957dbaf6",
   "metadata": {},
   "outputs": [],
   "source": [
    "medic1 = Medic(30, 217)"
   ]
  },
  {
   "cell_type": "code",
   "execution_count": 13,
   "id": "c487e1b2",
   "metadata": {},
   "outputs": [
    {
     "name": "stdout",
     "output_type": "stream",
     "text": [
      "Prepped and ready.\n"
     ]
    }
   ],
   "source": [
    "print(medic1)"
   ]
  },
  {
   "cell_type": "code",
   "execution_count": 15,
   "id": "793feedf",
   "metadata": {},
   "outputs": [
    {
     "name": "stdout",
     "output_type": "stream",
     "text": [
      "Need medical attention?\n"
     ]
    }
   ],
   "source": [
    "print(medic1.quotes_selected())"
   ]
  },
  {
   "cell_type": "code",
   "execution_count": 16,
   "id": "0644bec4",
   "metadata": {},
   "outputs": [
    {
     "name": "stdout",
     "output_type": "stream",
     "text": [
      " Right away.\n"
     ]
    }
   ],
   "source": [
    "print(medic1.quotes_confirming_order())"
   ]
  },
  {
   "cell_type": "markdown",
   "id": "25f90832",
   "metadata": {},
   "source": [
    "## Visibility example"
   ]
  },
  {
   "cell_type": "code",
   "execution_count": 49,
   "id": "1d527815",
   "metadata": {},
   "outputs": [],
   "source": [
    "class Buildings():\n",
    "    pass\n",
    "\n",
    "class Terran_Buildings(Buildings):\n",
    "    def __init__(self, num):\n",
    "        self.num = num\n",
    "    \n",
    "class Bunker(Terran_Buildings):\n",
    "    def __init__(self, pos_x, pos_y):\n",
    "        self.pos_x = pos_x\n",
    "        self.pos_y = pos_y\n",
    "        self.__now = []\n",
    "        \n",
    "    def accommodate(self, other):\n",
    "        if type(other) == Marine or type(other) ==  Medic:\n",
    "            self.__now.append(other)\n",
    "        else:\n",
    "            raise ValueError(\"Invalid Command\")\n",
    "    \n",
    "    def get_current_info(self):\n",
    "        return self.__now"
   ]
  },
  {
   "cell_type": "code",
   "execution_count": 50,
   "id": "f379da36",
   "metadata": {},
   "outputs": [],
   "source": [
    "bunker = Bunker(40, 220)"
   ]
  },
  {
   "cell_type": "code",
   "execution_count": 51,
   "id": "291ded09",
   "metadata": {},
   "outputs": [],
   "source": [
    "bunker.accommodate(Marine(30, 210))"
   ]
  },
  {
   "cell_type": "code",
   "execution_count": 53,
   "id": "7bb9b3df",
   "metadata": {},
   "outputs": [
    {
     "name": "stdout",
     "output_type": "stream",
     "text": [
      "[<__main__.Marine object at 0x000002E75D4AC848>]\n"
     ]
    }
   ],
   "source": [
    "print(bunker.get_current_info())"
   ]
  },
  {
   "cell_type": "code",
   "execution_count": 54,
   "id": "6e10d703",
   "metadata": {},
   "outputs": [],
   "source": [
    "bunker.accommodate(Medic(32, 218))"
   ]
  },
  {
   "cell_type": "code",
   "execution_count": 55,
   "id": "f9eb69b3",
   "metadata": {},
   "outputs": [
    {
     "name": "stdout",
     "output_type": "stream",
     "text": [
      "[<__main__.Marine object at 0x000002E75D4AC848>, <__main__.Medic object at 0x000002E75D4BD988>]\n"
     ]
    }
   ],
   "source": [
    "print(bunker.get_current_info())"
   ]
  },
  {
   "cell_type": "code",
   "execution_count": 57,
   "id": "f3a11bb7",
   "metadata": {},
   "outputs": [
    {
     "ename": "AttributeError",
     "evalue": "'Bunker' object has no attribute '__now'",
     "output_type": "error",
     "traceback": [
      "\u001b[1;31m---------------------------------------------------------------------------\u001b[0m",
      "\u001b[1;31mAttributeError\u001b[0m                            Traceback (most recent call last)",
      "\u001b[1;32m~\\AppData\\Local\\Temp\\ipykernel_28340\\2773540386.py\u001b[0m in \u001b[0;36m<module>\u001b[1;34m\u001b[0m\n\u001b[1;32m----> 1\u001b[1;33m \u001b[0mbunker\u001b[0m\u001b[1;33m.\u001b[0m\u001b[0m__now\u001b[0m\u001b[1;33m\u001b[0m\u001b[1;33m\u001b[0m\u001b[0m\n\u001b[0m",
      "\u001b[1;31mAttributeError\u001b[0m: 'Bunker' object has no attribute '__now'"
     ]
    }
   ],
   "source": [
    "bunker.__now"
   ]
  },
  {
   "cell_type": "code",
   "execution_count": 58,
   "id": "b75c4af2",
   "metadata": {},
   "outputs": [],
   "source": [
    "class Buildings():\n",
    "    pass\n",
    "\n",
    "class Terran_Buildings(Buildings):\n",
    "    def __init__(self, num):\n",
    "        self.num = num\n",
    "    \n",
    "class Bunker(Terran_Buildings):\n",
    "    def __init__(self, pos_x, pos_y):\n",
    "        self.pos_x = pos_x\n",
    "        self.pos_y = pos_y\n",
    "        self.now = []\n",
    "        \n",
    "    def accommodate(self, other):\n",
    "        if type(other) == Marine or type(other) ==  Medic:\n",
    "            self.now.append(other)\n",
    "        else:\n",
    "            raise ValueError(\"Invalid Command\")\n",
    "    \n",
    "    def get_current_info(self):\n",
    "        return self.now"
   ]
  },
  {
   "cell_type": "code",
   "execution_count": 63,
   "id": "89fecbb6",
   "metadata": {},
   "outputs": [],
   "source": [
    "bunker2 = Bunker(210, 208)"
   ]
  },
  {
   "cell_type": "code",
   "execution_count": 64,
   "id": "46528561",
   "metadata": {},
   "outputs": [
    {
     "data": {
      "text/plain": [
       "210"
      ]
     },
     "execution_count": 64,
     "metadata": {},
     "output_type": "execute_result"
    }
   ],
   "source": [
    "bunker2.pos_x"
   ]
  },
  {
   "cell_type": "code",
   "execution_count": 65,
   "id": "6b2b2bc0",
   "metadata": {},
   "outputs": [
    {
     "data": {
      "text/plain": [
       "[]"
      ]
     },
     "execution_count": 65,
     "metadata": {},
     "output_type": "execute_result"
    }
   ],
   "source": [
    "bunker2.now"
   ]
  },
  {
   "cell_type": "code",
   "execution_count": 67,
   "id": "b4f7c066",
   "metadata": {},
   "outputs": [],
   "source": [
    "bunker2.now = [1, 2, 3]"
   ]
  },
  {
   "cell_type": "code",
   "execution_count": 69,
   "id": "a34c6a59",
   "metadata": {},
   "outputs": [
    {
     "data": {
      "text/plain": [
       "[1, 2, 3]"
      ]
     },
     "execution_count": 69,
     "metadata": {},
     "output_type": "execute_result"
    }
   ],
   "source": [
    "bunker2.now"
   ]
  },
  {
   "cell_type": "code",
   "execution_count": 94,
   "id": "fe390629",
   "metadata": {},
   "outputs": [],
   "source": [
    "from copy import deepcopy"
   ]
  },
  {
   "cell_type": "code",
   "execution_count": 95,
   "id": "4a275b3a",
   "metadata": {},
   "outputs": [],
   "source": [
    " class Buildings():\n",
    "    pass\n",
    "\n",
    "class Terran_Buildings(Buildings):\n",
    "    def __init__(self, num):\n",
    "        self.num = num\n",
    "        \n",
    "    \n",
    "class Bunker(Terran_Buildings):\n",
    "    def __init__(self, pos_x, pos_y):\n",
    "        self.pos_x = pos_x\n",
    "        self.pos_y = pos_y\n",
    "        self.__now = []\n",
    "        \n",
    "    def accommodate(self, other):\n",
    "        if type(other) == Marine or type(other) ==  Medic:\n",
    "            self.now.append(other)\n",
    "        else:\n",
    "            raise ValueError(\"Invalid Command\")\n",
    "    \n",
    "    def get_current_number(self):\n",
    "        return len(self.__now)\n",
    "    \n",
    "    @property\n",
    "    def now(self):\n",
    "        return deepcopy(self.__now)"
   ]
  },
  {
   "cell_type": "code",
   "execution_count": 96,
   "id": "d129fab0",
   "metadata": {},
   "outputs": [],
   "source": [
    "bunker3 = Bunker(210, 208)"
   ]
  },
  {
   "cell_type": "code",
   "execution_count": 98,
   "id": "35fe3c6e",
   "metadata": {},
   "outputs": [],
   "source": [
    "bunker3.now.append('a')"
   ]
  },
  {
   "cell_type": "code",
   "execution_count": 99,
   "id": "361759c8",
   "metadata": {},
   "outputs": [
    {
     "data": {
      "text/plain": [
       "[]"
      ]
     },
     "execution_count": 99,
     "metadata": {},
     "output_type": "execute_result"
    }
   ],
   "source": [
    "bunker3.now"
   ]
  },
  {
   "cell_type": "markdown",
   "id": "5efad54a",
   "metadata": {},
   "source": [
    "## Decorator"
   ]
  },
  {
   "cell_type": "markdown",
   "id": "75ce5bdd",
   "metadata": {},
   "source": [
    "### 1.First-class object"
   ]
  },
  {
   "cell_type": "code",
   "execution_count": 100,
   "id": "16555a8b",
   "metadata": {},
   "outputs": [],
   "source": [
    "def square(x):\n",
    "    return x * x\n",
    "\n",
    "def cube(x):\n",
    "    return x * x * x\n",
    "\n",
    "def formula(method, argument_list):\n",
    "    return [method(value) for value in argument_list]"
   ]
  },
  {
   "cell_type": "code",
   "execution_count": 101,
   "id": "9a8169c8",
   "metadata": {},
   "outputs": [
    {
     "data": {
      "text/plain": [
       "[1, 4, 9, 16]"
      ]
     },
     "execution_count": 101,
     "metadata": {},
     "output_type": "execute_result"
    }
   ],
   "source": [
    "formula(square, [1,2,3,4])"
   ]
  },
  {
   "cell_type": "code",
   "execution_count": 102,
   "id": "0b1be80e",
   "metadata": {},
   "outputs": [
    {
     "data": {
      "text/plain": [
       "[1, 8, 27, 64]"
      ]
     },
     "execution_count": 102,
     "metadata": {},
     "output_type": "execute_result"
    }
   ],
   "source": [
    "formula(cube, [1,2,3,4])"
   ]
  },
  {
   "cell_type": "markdown",
   "id": "00d1421c",
   "metadata": {},
   "source": [
    "### 2. inner function"
   ]
  },
  {
   "cell_type": "code",
   "execution_count": 103,
   "id": "8ece0079",
   "metadata": {},
   "outputs": [
    {
     "name": "stdout",
     "output_type": "stream",
     "text": [
      "Hello, Python\n"
     ]
    }
   ],
   "source": [
    "def print_msg(msg):\n",
    "    def printer():\n",
    "        print(msg)\n",
    "    printer()\n",
    "print_msg(\"Hello, Python\")"
   ]
  },
  {
   "cell_type": "code",
   "execution_count": 108,
   "id": "1491f596",
   "metadata": {},
   "outputs": [
    {
     "name": "stdout",
     "output_type": "stream",
     "text": [
      "Helo, Python\n"
     ]
    }
   ],
   "source": [
    "def print_msg(msg):\n",
    "    def printer():\n",
    "        print(msg)\n",
    "    return printer\n",
    "\n",
    "another = print_msg('Helo, Python')\n",
    "another()"
   ]
  },
  {
   "cell_type": "code",
   "execution_count": 113,
   "id": "c407b5e5",
   "metadata": {},
   "outputs": [],
   "source": [
    "def tag_func(tag, text):\n",
    "    def inner_func():\n",
    "        return '<{0}>{1}<{0}>'.format(tag, text)\n",
    "    return inner_func\n",
    "\n",
    "h1_func = tag_func('title', \"This is Python Class\")\n",
    "p_func = tag_func('p', \"Data Academy\")"
   ]
  },
  {
   "cell_type": "code",
   "execution_count": 114,
   "id": "337b801e",
   "metadata": {},
   "outputs": [
    {
     "name": "stdout",
     "output_type": "stream",
     "text": [
      "<title>This is Python Class<title>\n"
     ]
    }
   ],
   "source": [
    "print(h1_func())"
   ]
  },
  {
   "cell_type": "code",
   "execution_count": 115,
   "id": "5df89d63",
   "metadata": {},
   "outputs": [
    {
     "name": "stdout",
     "output_type": "stream",
     "text": [
      "<p>Data Academy<p>\n"
     ]
    }
   ],
   "source": [
    "print(p_func())"
   ]
  },
  {
   "cell_type": "markdown",
   "id": "b9242bbe",
   "metadata": {},
   "source": [
    "### 3.decorator function"
   ]
  },
  {
   "cell_type": "code",
   "execution_count": 116,
   "id": "d5a3366e",
   "metadata": {},
   "outputs": [
    {
     "name": "stdout",
     "output_type": "stream",
     "text": [
      "******************************\n",
      "Hello\n",
      "******************************\n"
     ]
    }
   ],
   "source": [
    "def star(func):\n",
    "    def inner(*args, **kwargs):\n",
    "        print('*' * 30)\n",
    "        func(*args, **kwargs)\n",
    "        print('*' * 30)\n",
    "    return inner\n",
    "@star\n",
    "def printer(msg):\n",
    "    print(msg)\n",
    "printer('Hello')"
   ]
  },
  {
   "cell_type": "code",
   "execution_count": 134,
   "id": "51124a6f",
   "metadata": {},
   "outputs": [
    {
     "name": "stdout",
     "output_type": "stream",
     "text": [
      "******************************\n",
      "Hello World\n",
      "******************************\n"
     ]
    }
   ],
   "source": [
    "def star(func):\n",
    "    def inner(*args):\n",
    "        print('*' * 30)\n",
    "        func(*args)\n",
    "        print('*' * 30)\n",
    "    return inner\n",
    "\n",
    "@star\n",
    "def printer(msg1, msg2):\n",
    "    print(msg1, msg2)\n",
    "printer('Hello', 'World')"
   ]
  },
  {
   "cell_type": "code",
   "execution_count": 124,
   "id": "fe4f1fc0",
   "metadata": {},
   "outputs": [
    {
     "ename": "SyntaxError",
     "evalue": "invalid syntax (2778088859.py, line 11)",
     "output_type": "error",
     "traceback": [
      "\u001b[1;36m  File \u001b[1;32m\"C:\\Users\\najonggeun\\AppData\\Local\\Temp\\ipykernel_28340\\2778088859.py\"\u001b[1;36m, line \u001b[1;32m11\u001b[0m\n\u001b[1;33m    printer('Hello','I','am')\u001b[0m\n\u001b[1;37m          ^\u001b[0m\n\u001b[1;31mSyntaxError\u001b[0m\u001b[1;31m:\u001b[0m invalid syntax\n"
     ]
    }
   ],
   "source": [
    "def star(func):\n",
    "    def inner(*args):\n",
    "        print('*' * 30)\n",
    "        func(*args)\n",
    "        print('*' * 30)\n",
    "    return inner\n",
    "\n",
    "def printer(msg):\n",
    "    print(msg)\n",
    "@star\n",
    "printer('Hello','I','am')"
   ]
  },
  {
   "cell_type": "code",
   "execution_count": 131,
   "id": "fc56aaa0",
   "metadata": {},
   "outputs": [
    {
     "name": "stdout",
     "output_type": "stream",
     "text": [
      "******************************\n",
      "Hello\n",
      "******************************\n",
      "******************************\n",
      "Hello2\n",
      "******************************\n",
      "Hello3\n"
     ]
    }
   ],
   "source": [
    "def star(func):\n",
    "    def inner(*args):\n",
    "        print('*' * 30)\n",
    "        func(*args)\n",
    "        print('*' * 30)\n",
    "    return inner\n",
    "@star\n",
    "def printer(msg):\n",
    "    print(msg)\n",
    "def printer1(msg):\n",
    "    print(msg)\n",
    "printer('Hello')\n",
    "printer('Hello2')\n",
    "def printer2(msg):\n",
    "    print(msg)\n",
    "printer2('Hello3')"
   ]
  },
  {
   "cell_type": "code",
   "execution_count": 130,
   "id": "44f883ae",
   "metadata": {},
   "outputs": [
    {
     "name": "stdout",
     "output_type": "stream",
     "text": [
      "******************************\n",
      "Hello\n",
      "******************************\n",
      "******************************\n",
      "Hello2\n",
      "******************************\n",
      "******************************\n",
      "Hello3\n",
      "******************************\n"
     ]
    }
   ],
   "source": [
    "def star(func):\n",
    "    def inner(*args):\n",
    "        print('*' * 30)\n",
    "        func(*args)\n",
    "        print('*' * 30)\n",
    "    return inner\n",
    "@star\n",
    "def printer(msg):\n",
    "    print(msg)\n",
    "def printer1(msg):\n",
    "    print(msg)\n",
    "def printer2(msg):\n",
    "    print(msg)\n",
    "printer('Hello')\n",
    "printer('Hello2')\n",
    "printer('Hello3')"
   ]
  },
  {
   "cell_type": "code",
   "execution_count": 132,
   "id": "98233b7f",
   "metadata": {},
   "outputs": [
    {
     "name": "stdout",
     "output_type": "stream",
     "text": [
      "******************************\n",
      "%%%%%%%%%%%%%%%%%%%%%%%%%%%%%%\n",
      "Hello\n",
      "%%%%%%%%%%%%%%%%%%%%%%%%%%%%%%\n",
      "******************************\n"
     ]
    }
   ],
   "source": [
    "def star(func):\n",
    "    def inner(*args, **kwargs):\n",
    "        print('*' * 30)\n",
    "        func(*args, **kwargs)\n",
    "        print('*' * 30)\n",
    "    return inner\n",
    "\n",
    "def percent(func):\n",
    "    def inner(*args, **kwargs):\n",
    "        print('%' * 30)\n",
    "        func(*args, **kwargs)\n",
    "        print('%' * 30)\n",
    "    return inner\n",
    "@star\n",
    "@percent\n",
    "def printer(msg):\n",
    "    print(msg)\n",
    "printer('Hello')"
   ]
  },
  {
   "cell_type": "code",
   "execution_count": 142,
   "id": "7b60b4cf",
   "metadata": {},
   "outputs": [],
   "source": [
    "def generate_power(exponent):\n",
    "    def wrapper(f):\n",
    "        def inner(*args):\n",
    "            result = f(*args)\n",
    "            return exponent ** result\n",
    "        return inner\n",
    "    return wrapper\n",
    "\n",
    "@generate_power(2)\n",
    "def raise_two(n, m):\n",
    "    return (n ** 2 + m ** 2)"
   ]
  },
  {
   "cell_type": "code",
   "execution_count": 143,
   "id": "79e5cd81",
   "metadata": {},
   "outputs": [
    {
     "name": "stdout",
     "output_type": "stream",
     "text": [
      "8192\n"
     ]
    }
   ],
   "source": [
    "print(raise_two(2,3))"
   ]
  },
  {
   "cell_type": "code",
   "execution_count": 145,
   "id": "3819d156",
   "metadata": {},
   "outputs": [
    {
     "data": {
      "text/plain": [
       "8192"
      ]
     },
     "execution_count": 145,
     "metadata": {},
     "output_type": "execute_result"
    }
   ],
   "source": [
    "2**13"
   ]
  }
 ],
 "metadata": {
  "kernelspec": {
   "display_name": "Python 3 (ipykernel)",
   "language": "python",
   "name": "python3"
  },
  "language_info": {
   "codemirror_mode": {
    "name": "ipython",
    "version": 3
   },
   "file_extension": ".py",
   "mimetype": "text/x-python",
   "name": "python",
   "nbconvert_exporter": "python",
   "pygments_lexer": "ipython3",
   "version": "3.7.13"
  }
 },
 "nbformat": 4,
 "nbformat_minor": 5
}
