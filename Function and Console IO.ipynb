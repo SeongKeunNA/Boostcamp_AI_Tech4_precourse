{
 "cells": [
  {
   "cell_type": "code",
   "execution_count": 1,
   "id": "8976353b",
   "metadata": {},
   "outputs": [
    {
     "name": "stdout",
     "output_type": "stream",
     "text": [
      "Hello, Seongkeun. you are 27.\n"
     ]
    }
   ],
   "source": [
    "name = 'Seongkeun'\n",
    "age = 27\n",
    "print(f'Hello, {name}. you are {age}.')"
   ]
  },
  {
   "cell_type": "code",
   "execution_count": 2,
   "id": "44daf1ef",
   "metadata": {},
   "outputs": [
    {
     "name": "stdout",
     "output_type": "stream",
     "text": [
      "Seongkeun           \n"
     ]
    }
   ],
   "source": [
    "print(f'{name:20}')"
   ]
  },
  {
   "cell_type": "code",
   "execution_count": 3,
   "id": "42baff81",
   "metadata": {},
   "outputs": [
    {
     "name": "stdout",
     "output_type": "stream",
     "text": [
      "           Seongkeun\n"
     ]
    }
   ],
   "source": [
    "print(f'{name:>20}')"
   ]
  },
  {
   "cell_type": "code",
   "execution_count": 4,
   "id": "ecbcf16c",
   "metadata": {},
   "outputs": [
    {
     "name": "stdout",
     "output_type": "stream",
     "text": [
      "     Seongkeun      \n"
     ]
    }
   ],
   "source": [
    "print(f'{name:^20}')"
   ]
  },
  {
   "cell_type": "code",
   "execution_count": 6,
   "id": "b1bc7741",
   "metadata": {},
   "outputs": [
    {
     "name": "stdout",
     "output_type": "stream",
     "text": [
      "***********Seongkeun\n"
     ]
    }
   ],
   "source": [
    "print(f'{name:*>20}')"
   ]
  },
  {
   "cell_type": "code",
   "execution_count": 7,
   "id": "d85dc80f",
   "metadata": {},
   "outputs": [
    {
     "name": "stdout",
     "output_type": "stream",
     "text": [
      "Seongkeun***********\n"
     ]
    }
   ],
   "source": [
    "print(f'{name:*<20}')"
   ]
  },
  {
   "cell_type": "code",
   "execution_count": 11,
   "id": "6cc456c2",
   "metadata": {},
   "outputs": [
    {
     "name": "stdout",
     "output_type": "stream",
     "text": [
      "*****Seongkeun******\n"
     ]
    }
   ],
   "source": [
    "print(f'{name:*^20}')"
   ]
  },
  {
   "cell_type": "code",
   "execution_count": 12,
   "id": "6bf34647",
   "metadata": {},
   "outputs": [],
   "source": [
    "number = 3.141592625387973"
   ]
  },
  {
   "cell_type": "code",
   "execution_count": 16,
   "id": "7f8db8c5",
   "metadata": {},
   "outputs": [
    {
     "name": "stdout",
     "output_type": "stream",
     "text": [
      "3.14\n"
     ]
    }
   ],
   "source": [
    "print(f'{number:.2f}')"
   ]
  }
 ],
 "metadata": {
  "kernelspec": {
   "display_name": "Python 3 (ipykernel)",
   "language": "python",
   "name": "python3"
  },
  "language_info": {
   "codemirror_mode": {
    "name": "ipython",
    "version": 3
   },
   "file_extension": ".py",
   "mimetype": "text/x-python",
   "name": "python",
   "nbconvert_exporter": "python",
   "pygments_lexer": "ipython3",
   "version": "3.7.13"
  }
 },
 "nbformat": 4,
 "nbformat_minor": 5
}
