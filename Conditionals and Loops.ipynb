{
 "cells": [
  {
   "cell_type": "code",
   "execution_count": 3,
   "id": "62272d53",
   "metadata": {},
   "outputs": [
    {
     "data": {
      "text/plain": [
       "True"
      ]
     },
     "execution_count": 3,
     "metadata": {},
     "output_type": "execute_result"
    }
   ],
   "source": [
    "value = 12\n",
    "is_even = True if value % 2 == 0 else False\n",
    "is_even"
   ]
  },
  {
   "cell_type": "code",
   "execution_count": 5,
   "id": "a8af4401",
   "metadata": {},
   "outputs": [
    {
     "name": "stdout",
     "output_type": "stream",
     "text": [
      "B\n"
     ]
    }
   ],
   "source": [
    "score = 84\n",
    "if score >= 90: grade = 'A'\n",
    "elif score >= 80: grade = 'B'\n",
    "elif score >= 70: grade = 'C'\n",
    "elif score >= 60: grade = 'D'\n",
    "else: grade = 'F'\n",
    "print(grade)"
   ]
  }
 ],
 "metadata": {
  "kernelspec": {
   "display_name": "Python 3 (ipykernel)",
   "language": "python",
   "name": "python3"
  },
  "language_info": {
   "codemirror_mode": {
    "name": "ipython",
    "version": 3
   },
   "file_extension": ".py",
   "mimetype": "text/x-python",
   "name": "python",
   "nbconvert_exporter": "python",
   "pygments_lexer": "ipython3",
   "version": "3.7.13"
  }
 },
 "nbformat": 4,
 "nbformat_minor": 5
}
