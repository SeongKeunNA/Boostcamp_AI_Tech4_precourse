{
  "nbformat": 4,
  "nbformat_minor": 0,
  "metadata": {
    "colab": {
      "provenance": [],
      "collapsed_sections": []
    },
    "kernelspec": {
      "name": "python3",
      "display_name": "Python 3"
    },
    "language_info": {
      "name": "python"
    }
  },
  "cells": [
    {
      "cell_type": "code",
      "execution_count": 5,
      "metadata": {
        "colab": {
          "base_uri": "https://localhost:8080/",
          "height": 38
        },
        "id": "FPnBmOIcLkrp",
        "outputId": "2a5e8ff7-e25b-4e04-a86a-8e0b7c3e8a2a"
      },
      "outputs": [
        {
          "output_type": "execute_result",
          "data": {
            "text/plain": [
              "Poly(2*x + 2, x, domain='ZZ')"
            ],
            "text/latex": "$\\displaystyle \\operatorname{Poly}{\\left( 2 x + 2, x, domain=\\mathbb{Z} \\right)}$"
          },
          "metadata": {},
          "execution_count": 5
        }
      ],
      "source": [
        "import sympy as sym\n",
        "from sympy.abc import x\n",
        "\n",
        "sym.diff(sym.poly(x**2 + 2*x + 3), x) # 주어진 다항식을 x로 미분함\n"
      ]
    },
    {
      "cell_type": "code",
      "source": [
        "def func(val):\n",
        "    fun = sym.poly(x**2 + 2*x + 3)\n",
        "    return fun.subs(x, val), fun # val의 변수에 x를 대입한 값과 함수 자체를 반환\n",
        "\n",
        "def func_gradient(fun, val):\n",
        "    _, function = fun(val)\n",
        "    diff = sym.diff(function, x)  # fun식을 x로 미분함\n",
        "    return diff.subs(x, val), diff # 주어진 위치에서의 미분값과 도함수를 반환\n",
        "\n",
        "def gradient_decent(fun, init_point, lr_rate=1e-2, epsilon=1e-5):\n",
        "    cnt = 0\n",
        "    val = init_point\n",
        "    diff, _ = func_gradient(fun, init_point)\n",
        "    while np.abs(diff) > epsilon:\n",
        "        val = val - lr_rate * diff\n",
        "        diff, _ = func_gradient(fun, val)\n",
        "        cnt += 1\n",
        "    print(\"함수: {}, 연산횟수: {}, 최소점: ({}, {})\".format(fun(val)[1], cnt, val, fun(val)[0]))\n",
        "\n",
        "gradient_decent(fun=func, init_point=np.random.uniform(-2, 2))"
      ],
      "metadata": {
        "colab": {
          "base_uri": "https://localhost:8080/"
        },
        "id": "E8WSbo0wawhy",
        "outputId": "d90843d6-7fda-4b8d-9627-d1228c7db63e"
      },
      "execution_count": 10,
      "outputs": [
        {
          "output_type": "stream",
          "name": "stdout",
          "text": [
            "함수: Poly(x**2 + 2*x + 3, x, domain='ZZ'), 연산횟수: 646, 최소점: (-0.999995056286843, 2.00000000002444)\n"
          ]
        }
      ]
    },
    {
      "cell_type": "code",
      "source": [
        "from sympy.abc import y\n",
        "\n",
        "sym.diff(sym.poly(x**2 + 2*x*y + 3) + sym.cos(x + 2*y), x)"
      ],
      "metadata": {
        "colab": {
          "base_uri": "https://localhost:8080/",
          "height": 38
        },
        "id": "eTyNbJbSa5i2",
        "outputId": "1afe9c96-dbd0-41f7-99f5-728828ac1767"
      },
      "execution_count": 11,
      "outputs": [
        {
          "output_type": "execute_result",
          "data": {
            "text/plain": [
              "2*x + 2*y - sin(x + 2*y)"
            ],
            "text/latex": "$\\displaystyle 2 x + 2 y - \\sin{\\left(x + 2 y \\right)}$"
          },
          "metadata": {},
          "execution_count": 11
        }
      ]
    },
    {
      "cell_type": "code",
      "source": [
        "# Multivariate Gradient Descent\n",
        "def eval_(fun, val):\n",
        "    val_x, val_y = val\n",
        "    fun_eval = fun.subs(x, val_x).subs(y, val_y)\n",
        "    return fun_eval \n",
        "\n",
        "def func_multi(val):\n",
        "    x_, y_ = val\n",
        "    func = sym.poly(x**2 + 2*y**2)\n",
        "    return eval_(func, [x_, y_]), func # 주어진 x_, y_값에서의 함수값과 함수자체를 반환\n",
        "\n",
        "def func_gradient(fun, val):\n",
        "    x_, y_ = val\n",
        "    _, function = fun(val)\n",
        "    diff_x = sym.diff(function, x)\n",
        "    diff_y = sym.diff(function, y)\n",
        "    grad_vec = np.array([eval_(diff_x, [x_, y_]), eval_(diff_y, [x_, y_])], dtype=float) # x = x_, y = y_에서의 x ,y 미분값을 담은 벡터\n",
        "    return grad_vec, [diff_x, diff_y] # 그래디언트 벡터와 x에 대해 편미분한 함수, y에 대해 편미분한 함수\n",
        "\n",
        "def gradient_descent(fun, init_point, lr_rate=1e-2, epsilon=1e-5):\n",
        "    cnt = 0\n",
        "    val = init_point\n",
        "    diff, _ = func_gradient(fun, val)\n",
        "    while np.linalg.norm(diff) > epsilon:\n",
        "        val = val - lr_rate * diff\n",
        "        diff, _ = func_gradient(fun, val)\n",
        "        cnt += 1\n",
        "\n",
        "    print(\"함수: {}, 연산횟수: {}, 최소점: ({}, {})\".format(fun(val)[1], cnt, val, fun(val)[0]))\n",
        "\n",
        "pt = [np.random.uniform(-2, 2), np.random.uniform(-2, 2)]\n",
        "gradient_descent(fun=func_multi, init_point=pt)"
      ],
      "metadata": {
        "colab": {
          "base_uri": "https://localhost:8080/"
        },
        "id": "phMDiL_Pcn6H",
        "outputId": "398142a6-0c25-4acb-9749-7926214c05b8"
      },
      "execution_count": 12,
      "outputs": [
        {
          "output_type": "stream",
          "name": "stdout",
          "text": [
            "함수: Poly(x**2 + 2*y**2, x, y, domain='ZZ'), 연산횟수: 510, 최소점: ([-4.99794181e-06  8.30760566e-10], 2.49794237252412E-11)\n"
          ]
        }
      ]
    }
  ]
}