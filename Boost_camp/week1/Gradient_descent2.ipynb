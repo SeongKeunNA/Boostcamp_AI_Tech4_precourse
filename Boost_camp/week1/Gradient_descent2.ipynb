{
 "cells": [
  {
   "cell_type": "code",
   "execution_count": 1,
   "id": "ab70f3c7",
   "metadata": {},
   "outputs": [],
   "source": [
    "import numpy as np"
   ]
  },
  {
   "cell_type": "code",
   "execution_count": 12,
   "id": "de203302",
   "metadata": {},
   "outputs": [
    {
     "name": "stdout",
     "output_type": "stream",
     "text": [
      "[ 6  8  9 11]\n",
      "[1.00000367 1.99999949 2.99999516]\n"
     ]
    }
   ],
   "source": [
    "X = np.array([[1, 1], [1, 2], [2, 2], [2, 3]])\n",
    "y = np.dot(X, np. array([1, 2])) + 3\n",
    "print(y)\n",
    "\n",
    "beta_gd = [10.1, 15.1, -6.5]\n",
    "X_ = np.array([np.append(x, [1]) for x in X])\n",
    "for t in range(5000):\n",
    "    error = y - X_ @ beta_gd # beta_gd가 list 형태이므로 @ 연산은 내적을 의미\n",
    "    # error = error / np.linalg.norm(error)\n",
    "    grad = -np.transpose(X_) @ error\n",
    "    beta_gd = beta_gd - 0.01 * grad\n",
    "print(beta_gd)"
   ]
  },
  {
   "cell_type": "code",
   "execution_count": 15,
   "id": "306bef9b",
   "metadata": {},
   "outputs": [
    {
     "data": {
      "text/plain": [
       "(1, 3)"
      ]
     },
     "execution_count": 15,
     "metadata": {},
     "output_type": "execute_result"
    }
   ],
   "source": [
    "np.array([beta_gd]).shape"
   ]
  },
  {
   "cell_type": "code",
   "execution_count": 19,
   "id": "86d4ec14",
   "metadata": {},
   "outputs": [],
   "source": [
    "b = [1, 0, -1]"
   ]
  },
  {
   "cell_type": "code",
   "execution_count": 21,
   "id": "3244eedd",
   "metadata": {},
   "outputs": [
    {
     "name": "stdout",
     "output_type": "stream",
     "text": [
      "X_:\n",
      " [[1 1 1]\n",
      " [1 2 1]\n",
      " [2 2 1]\n",
      " [2 3 1]] \n",
      "b: [1, 0, -1]\n",
      "X_ @ b: [0 0 1 1]\n",
      "[[0]\n",
      " [0]\n",
      " [1]\n",
      " [1]]\n"
     ]
    }
   ],
   "source": [
    "print('X_:\\n',X_, '\\nb:', b)\n",
    "print('X_ @ b:', X_ @ b)\n",
    "print(X_ @ [[1], [0], [-1]])"
   ]
  },
  {
   "cell_type": "code",
   "execution_count": 22,
   "id": "15d6e76a",
   "metadata": {},
   "outputs": [
    {
     "name": "stdout",
     "output_type": "stream",
     "text": [
      "[ 6  8  9 11]\n",
      "[ 3.41314549  4.63604548 -6.69249764]\n"
     ]
    }
   ],
   "source": [
    "X = np.array([[1, 1], [1, 2], [2, 2], [2, 3]])\n",
    "y = np.dot(X, np. array([1, 2])) + 3\n",
    "print(y)\n",
    "\n",
    "beta_gd = [10.1, 15.1, -6.5]\n",
    "X_ = np.array([np.append(x, [1]) for x in X])\n",
    "for t in range(100):\n",
    "    error = y - X_ @ beta_gd # beta_gd가 list 형태이므로 @ 연산은 내적을 의미\n",
    "    # error = error / np.linalg.norm(error)\n",
    "    grad = -np.transpose(X_) @ error\n",
    "    beta_gd = beta_gd - 0.01 * grad\n",
    "print(beta_gd)"
   ]
  }
 ],
 "metadata": {
  "kernelspec": {
   "display_name": "Python 3 (ipykernel)",
   "language": "python",
   "name": "python3"
  },
  "language_info": {
   "codemirror_mode": {
    "name": "ipython",
    "version": 3
   },
   "file_extension": ".py",
   "mimetype": "text/x-python",
   "name": "python",
   "nbconvert_exporter": "python",
   "pygments_lexer": "ipython3",
   "version": "3.7.13"
  }
 },
 "nbformat": 4,
 "nbformat_minor": 5
}
