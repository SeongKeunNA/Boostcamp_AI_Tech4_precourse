{
 "cells": [
  {
   "cell_type": "code",
   "execution_count": 13,
   "id": "8b3845a2",
   "metadata": {},
   "outputs": [
    {
     "name": "stdout",
     "output_type": "stream",
     "text": [
      "'I have a dream.\n"
     ]
    }
   ],
   "source": [
    "f = open('i_have_a_dream.txt', 'r')\n",
    "contents = f.read()\n",
    "print(contents)\n",
    "f.close()"
   ]
  },
  {
   "cell_type": "code",
   "execution_count": 9,
   "id": "1de70537",
   "metadata": {},
   "outputs": [
    {
     "name": "stdout",
     "output_type": "stream",
     "text": [
      "'I have a dream.\n"
     ]
    }
   ],
   "source": [
    "with open('i_have_a_dream.txt', 'r') as f:\n",
    "    contents = f.read()\n",
    "    print(contents)"
   ]
  },
  {
   "cell_type": "code",
   "execution_count": 17,
   "id": "8a63dfb2",
   "metadata": {},
   "outputs": [
    {
     "name": "stdout",
     "output_type": "stream",
     "text": [
      "<class 'list'>\n"
     ]
    }
   ],
   "source": [
    "with open('i_have_a_dream.txt', 'r') as f:\n",
    "    contents_list = f.readlines()\n",
    "    print(type(contents_list))"
   ]
  },
  {
   "cell_type": "code",
   "execution_count": 18,
   "id": "028ed86b",
   "metadata": {},
   "outputs": [
    {
     "data": {
      "text/plain": [
       "\"'I have a dream.\""
      ]
     },
     "execution_count": 18,
     "metadata": {},
     "output_type": "execute_result"
    }
   ],
   "source": [
    "contents_list[0]"
   ]
  },
  {
   "cell_type": "code",
   "execution_count": 19,
   "id": "43d4a424",
   "metadata": {},
   "outputs": [
    {
     "name": "stdout",
     "output_type": "stream",
     "text": [
      "0 ==== 'I have a dream.\n",
      "1 ==== \n",
      "2 ==== \n",
      "3 ==== \n",
      "4 ==== \n"
     ]
    }
   ],
   "source": [
    "with open('i_have_a_dream.txt', 'r') as f:\n",
    "    i = 0\n",
    "    while True:\n",
    "        line = f.readline()\n",
    "        if i == 5:\n",
    "            break\n",
    "        print('{0} ==== {1}'.format(i, line))\n",
    "        i += 1"
   ]
  },
  {
   "cell_type": "code",
   "execution_count": 20,
   "id": "eb3fa99d",
   "metadata": {},
   "outputs": [
    {
     "name": "stdout",
     "output_type": "stream",
     "text": [
      "0 === 'I have a dream.\n"
     ]
    }
   ],
   "source": [
    "with open('i_have_a_dream.txt', 'r') as myfile:\n",
    "    i = 0\n",
    "    while True:\n",
    "        line = myfile.readline()\n",
    "        if not line:\n",
    "            break\n",
    "        print(str(i) + ' === ' + line.replace('\\n', ''))\n",
    "        i += 1"
   ]
  },
  {
   "cell_type": "code",
   "execution_count": 22,
   "id": "31e66544",
   "metadata": {},
   "outputs": [
    {
     "name": "stdout",
     "output_type": "stream",
     "text": [
      "Total Number of Charcters: 16\n",
      "Total Number of words: 4\n",
      "Total Number of Lines: 1\n"
     ]
    }
   ],
   "source": [
    "with open('i_have_a_dream.txt', 'r') as myfile:\n",
    "    contents = myfile.read()\n",
    "    word_list = contents.split(' ')\n",
    "    line_list = contents.split('\\n')\n",
    "print(\"Total Number of Charcters:\", len(contents))\n",
    "print(\"Total Number of words:\", len(word_list))\n",
    "print(\"Total Number of Lines:\", len(line_list))"
   ]
  },
  {
   "cell_type": "code",
   "execution_count": 23,
   "id": "af99653f",
   "metadata": {},
   "outputs": [],
   "source": [
    "f = open(\"count_log.txt\", mode = \"w\", encoding = \"utf8\")\n",
    "for i in range(1, 11):\n",
    "    data = \"{0}번째 줄입니다. \\n\".format(i)\n",
    "    f.write(data)\n",
    "f.close()"
   ]
  },
  {
   "cell_type": "code",
   "execution_count": 26,
   "id": "cf7596ee",
   "metadata": {},
   "outputs": [
    {
     "name": "stdout",
     "output_type": "stream",
     "text": [
      "1번째 줄입니다. \n",
      "2번째 줄입니다. \n",
      "3번째 줄입니다. \n",
      "4번째 줄입니다. \n",
      "5번째 줄입니다. \n",
      "6번째 줄입니다. \n",
      "7번째 줄입니다. \n",
      "8번째 줄입니다. \n",
      "9번째 줄입니다. \n",
      "10번째 줄입니다. \n",
      "\n"
     ]
    }
   ],
   "source": [
    "with open(\"count_log.txt\", 'r', encoding = 'utf8') as c:\n",
    "    contents = c.read()\n",
    "    print(contents)"
   ]
  },
  {
   "cell_type": "code",
   "execution_count": 30,
   "id": "b847bc9c",
   "metadata": {},
   "outputs": [],
   "source": [
    "with open(\"count_log.txt\", mode = \"a\", encoding = 'utf8') as c:\n",
    "    for i in range(11, 21):\n",
    "        data = \"{0}번째 줄입니다.\\n\".format(i)\n",
    "        c.write(data)"
   ]
  },
  {
   "cell_type": "code",
   "execution_count": 31,
   "id": "0ac9a500",
   "metadata": {},
   "outputs": [
    {
     "name": "stdout",
     "output_type": "stream",
     "text": [
      "1번째 줄입니다. \n",
      "2번째 줄입니다. \n",
      "3번째 줄입니다. \n",
      "4번째 줄입니다. \n",
      "5번째 줄입니다. \n",
      "6번째 줄입니다. \n",
      "7번째 줄입니다. \n",
      "8번째 줄입니다. \n",
      "9번째 줄입니다. \n",
      "10번째 줄입니다. \n",
      "11번째 줄입니다.\n",
      "12번째 줄입니다.\n",
      "13번째 줄입니다.\n",
      "14번째 줄입니다.\n",
      "15번째 줄입니다.\n",
      "16번째 줄입니다.\n",
      "17번째 줄입니다.\n",
      "18번째 줄입니다.\n",
      "19번째 줄입니다.\n",
      "20번째 줄입니다.\n",
      "\n"
     ]
    }
   ],
   "source": [
    "with open(\"count_log.txt\", 'r', encoding = 'utf8') as c:\n",
    "    contents = c.read()\n",
    "    print(contents)"
   ]
  },
  {
   "cell_type": "code",
   "execution_count": 32,
   "id": "60fd7df8",
   "metadata": {},
   "outputs": [],
   "source": [
    "f = open(\"count_log.txt\", mode = \"w\", encoding = \"utf8\")\n",
    "for i in range(1, 11):\n",
    "    data = \"{0}번째 줄입니다. \\n\".format(i)\n",
    "    f.write(data)\n",
    "f.close()"
   ]
  },
  {
   "cell_type": "code",
   "execution_count": 33,
   "id": "f869e970",
   "metadata": {},
   "outputs": [
    {
     "name": "stdout",
     "output_type": "stream",
     "text": [
      "1번째 줄입니다. \n",
      "2번째 줄입니다. \n",
      "3번째 줄입니다. \n",
      "4번째 줄입니다. \n",
      "5번째 줄입니다. \n",
      "6번째 줄입니다. \n",
      "7번째 줄입니다. \n",
      "8번째 줄입니다. \n",
      "9번째 줄입니다. \n",
      "10번째 줄입니다. \n",
      "\n"
     ]
    }
   ],
   "source": [
    "with open(\"count_log.txt\", 'r', encoding = 'utf8') as c:\n",
    "    contents = c.read()\n",
    "    print(contents)"
   ]
  },
  {
   "cell_type": "code",
   "execution_count": 34,
   "id": "891ff808",
   "metadata": {},
   "outputs": [],
   "source": [
    "import os\n",
    "os.mkdir(\"log\")"
   ]
  },
  {
   "cell_type": "code",
   "execution_count": 38,
   "id": "22c472e4",
   "metadata": {},
   "outputs": [
    {
     "name": "stdout",
     "output_type": "stream",
     "text": [
      "Already created\n"
     ]
    }
   ],
   "source": [
    "try:\n",
    "    os.mkdir(\"abc\")\n",
    "except FileExistsError as e:\n",
    "    print(\"Already created\")"
   ]
  },
  {
   "cell_type": "code",
   "execution_count": 41,
   "id": "95f76917",
   "metadata": {},
   "outputs": [
    {
     "data": {
      "text/plain": [
       "True"
      ]
     },
     "execution_count": 41,
     "metadata": {},
     "output_type": "execute_result"
    }
   ],
   "source": [
    "os.path.exists(\"abc\")"
   ]
  },
  {
   "cell_type": "code",
   "execution_count": 39,
   "id": "78f64697",
   "metadata": {},
   "outputs": [
    {
     "data": {
      "text/plain": [
       "False"
      ]
     },
     "execution_count": 39,
     "metadata": {},
     "output_type": "execute_result"
    }
   ],
   "source": [
    "os.path.isfile(\"file.ipynb\")"
   ]
  },
  {
   "cell_type": "code",
   "execution_count": 42,
   "id": "d9cefdf4",
   "metadata": {},
   "outputs": [
    {
     "data": {
      "text/plain": [
       "'abc\\\\seongkeun.txt'"
      ]
     },
     "execution_count": 42,
     "metadata": {},
     "output_type": "execute_result"
    }
   ],
   "source": [
    "import shutil\n",
    "\n",
    "source = 'i_have_a_dream.txt'\n",
    "dest = os.path.join(\"abc\", \"seongkeun.txt\")\n",
    "\n",
    "shutil.copy(source, dest)"
   ]
  },
  {
   "cell_type": "code",
   "execution_count": 43,
   "id": "1eb94da9",
   "metadata": {},
   "outputs": [],
   "source": [
    "import pathlib"
   ]
  },
  {
   "cell_type": "code",
   "execution_count": 45,
   "id": "e15ae219",
   "metadata": {},
   "outputs": [
    {
     "data": {
      "text/plain": [
       "WindowsPath('C:/Users/najonggeun/네이버 ai 부스트캠프 4기 프리코스/File_Exception_Log Handling')"
      ]
     },
     "execution_count": 45,
     "metadata": {},
     "output_type": "execute_result"
    }
   ],
   "source": [
    "cwd = pathlib.Path.cwd()\n",
    "cwd"
   ]
  },
  {
   "cell_type": "code",
   "execution_count": 46,
   "id": "d6a39542",
   "metadata": {},
   "outputs": [
    {
     "data": {
      "text/plain": [
       "WindowsPath('C:/Users/najonggeun/네이버 ai 부스트캠프 4기 프리코스')"
      ]
     },
     "execution_count": 46,
     "metadata": {},
     "output_type": "execute_result"
    }
   ],
   "source": [
    "cwd.parent"
   ]
  },
  {
   "cell_type": "code",
   "execution_count": 47,
   "id": "f289de15",
   "metadata": {},
   "outputs": [
    {
     "data": {
      "text/plain": [
       "WindowsPath('C:/Users/najonggeun')"
      ]
     },
     "execution_count": 47,
     "metadata": {},
     "output_type": "execute_result"
    }
   ],
   "source": [
    "cwd.parent.parent"
   ]
  },
  {
   "cell_type": "code",
   "execution_count": 49,
   "id": "7f3b00be",
   "metadata": {},
   "outputs": [
    {
     "data": {
      "text/plain": [
       "[WindowsPath('C:/Users/najonggeun'),\n",
       " WindowsPath('C:/Users'),\n",
       " WindowsPath('C:/')]"
      ]
     },
     "execution_count": 49,
     "metadata": {},
     "output_type": "execute_result"
    }
   ],
   "source": [
    "list(cwd.parent.parents)"
   ]
  },
  {
   "cell_type": "code",
   "execution_count": 51,
   "id": "c6fc3ab3",
   "metadata": {},
   "outputs": [
    {
     "data": {
      "text/plain": [
       "[WindowsPath('C:/Users/najonggeun/네이버 ai 부스트캠프 4기 프리코스/File_Exception_Log Handling/.ipynb_checkpoints'),\n",
       " WindowsPath('C:/Users/najonggeun/네이버 ai 부스트캠프 4기 프리코스/File_Exception_Log Handling/abc'),\n",
       " WindowsPath('C:/Users/najonggeun/네이버 ai 부스트캠프 4기 프리코스/File_Exception_Log Handling/count_log.txt'),\n",
       " WindowsPath('C:/Users/najonggeun/네이버 ai 부스트캠프 4기 프리코스/File_Exception_Log Handling/exception.ipynb'),\n",
       " WindowsPath('C:/Users/najonggeun/네이버 ai 부스트캠프 4기 프리코스/File_Exception_Log Handling/file handling.ipynb'),\n",
       " WindowsPath('C:/Users/najonggeun/네이버 ai 부스트캠프 4기 프리코스/File_Exception_Log Handling/file.ipynb'),\n",
       " WindowsPath('C:/Users/najonggeun/네이버 ai 부스트캠프 4기 프리코스/File_Exception_Log Handling/i_have_a_dream.txt'),\n",
       " WindowsPath('C:/Users/najonggeun/네이버 ai 부스트캠프 4기 프리코스/File_Exception_Log Handling/log')]"
      ]
     },
     "execution_count": 51,
     "metadata": {},
     "output_type": "execute_result"
    }
   ],
   "source": [
    "list(cwd.glob('*'))"
   ]
  },
  {
   "cell_type": "code",
   "execution_count": 74,
   "id": "43e793b0",
   "metadata": {},
   "outputs": [],
   "source": [
    "if not os.path.exists(\"log\"):\n",
    "    os.mkdir(\"log\")\n",
    "    \n",
    "TARGET_FILE_PATH = os.path.join(\"log\", \"count_log.txt\")\n",
    "if not os.path.exists(TARGET_FILE_PATH):\n",
    "    f = open(\"log/count_log.txt\", \"w\", encoding = \"utf-8\")\n",
    "    f.write(\"기록이 시작됩니다\\n\")\n",
    "    f.close()"
   ]
  },
  {
   "cell_type": "code",
   "execution_count": 75,
   "id": "098a42f3",
   "metadata": {},
   "outputs": [],
   "source": [
    "with open(TARGET_FILE_PATH, \"a\", encoding = \"utf8\") as f:\n",
    "    import random, datetime\n",
    "    for i in range(1, 11):\n",
    "        stamp = str(datetime.datetime.now())\n",
    "        value = random.random() * 1000000\n",
    "        log_line = stamp + \"\\t\"+ str(value) + \"값이 생성되었습니다\\n\"\n",
    "        f.write(log_line)"
   ]
  },
  {
   "cell_type": "code",
   "execution_count": 77,
   "id": "1f60f36b",
   "metadata": {},
   "outputs": [
    {
     "name": "stdout",
     "output_type": "stream",
     "text": [
      "기록이 시작됩니다\n",
      "2022-07-15 15:26:31.630501\t560521.6408465266값이 생성되었습니다\n",
      "2022-07-15 15:26:31.630501\t896266.6796746068값이 생성되었습니다\n",
      "2022-07-15 15:26:31.630501\t876740.13557659값이 생성되었습니다\n",
      "2022-07-15 15:26:31.630501\t196229.07847700155값이 생성되었습니다\n",
      "2022-07-15 15:26:31.630501\t56861.02680547123값이 생성되었습니다\n",
      "2022-07-15 15:26:31.630501\t581461.3064934679값이 생성되었습니다\n",
      "2022-07-15 15:26:31.630501\t863932.9519854095값이 생성되었습니다\n",
      "2022-07-15 15:26:31.630501\t702352.4667925081값이 생성되었습니다\n",
      "2022-07-15 15:26:31.630501\t212393.03059447324값이 생성되었습니다\n",
      "2022-07-15 15:26:31.630501\t773923.0268322332값이 생성되었습니다\n",
      "\n"
     ]
    }
   ],
   "source": [
    "with open(\"log/count_log.txt\", \"r\", encoding = \"utf8\") as f:\n",
    "    contents = f.read()\n",
    "    print(contents)"
   ]
  },
  {
   "cell_type": "code",
   "execution_count": 78,
   "id": "bd1f4b18",
   "metadata": {},
   "outputs": [],
   "source": [
    "import pickle"
   ]
  },
  {
   "cell_type": "code",
   "execution_count": 79,
   "id": "dfb05c00",
   "metadata": {},
   "outputs": [],
   "source": [
    "f = open(\"list.pickle\", \"wb\")\n",
    "test = [1, 2, 3, 4, 5]\n",
    "pickle.dump(test, f)\n",
    "f.close()"
   ]
  },
  {
   "cell_type": "code",
   "execution_count": 80,
   "id": "41ea48d8",
   "metadata": {},
   "outputs": [],
   "source": [
    "del test"
   ]
  },
  {
   "cell_type": "code",
   "execution_count": 81,
   "id": "de054703",
   "metadata": {},
   "outputs": [
    {
     "ename": "NameError",
     "evalue": "name 'test' is not defined",
     "output_type": "error",
     "traceback": [
      "\u001b[1;31m---------------------------------------------------------------------------\u001b[0m",
      "\u001b[1;31mNameError\u001b[0m                                 Traceback (most recent call last)",
      "\u001b[1;32m~\\AppData\\Local\\Temp\\ipykernel_29708\\2074824509.py\u001b[0m in \u001b[0;36m<module>\u001b[1;34m\u001b[0m\n\u001b[1;32m----> 1\u001b[1;33m \u001b[0mtest\u001b[0m\u001b[1;33m\u001b[0m\u001b[1;33m\u001b[0m\u001b[0m\n\u001b[0m",
      "\u001b[1;31mNameError\u001b[0m: name 'test' is not defined"
     ]
    }
   ],
   "source": [
    "test"
   ]
  },
  {
   "cell_type": "code",
   "execution_count": 82,
   "id": "37098186",
   "metadata": {},
   "outputs": [],
   "source": [
    "f = open(\"list.pickle\", \"rb\")\n",
    "test_pickle = pickle.load(f)\n",
    "test_pickle\n",
    "f.close()"
   ]
  },
  {
   "cell_type": "code",
   "execution_count": 83,
   "id": "798ac1fb",
   "metadata": {},
   "outputs": [
    {
     "data": {
      "text/plain": [
       "[1, 2, 3, 4, 5]"
      ]
     },
     "execution_count": 83,
     "metadata": {},
     "output_type": "execute_result"
    }
   ],
   "source": [
    "test_pickle"
   ]
  },
  {
   "cell_type": "code",
   "execution_count": 87,
   "id": "002a941f",
   "metadata": {},
   "outputs": [],
   "source": [
    "class Multiply(object):\n",
    "    def __init__(self, multiplier):\n",
    "        self.multiplier = multiplier\n",
    "    \n",
    "    def multiply(self, number):\n",
    "        return number * self.multiplier"
   ]
  },
  {
   "cell_type": "code",
   "execution_count": 94,
   "id": "4183ebab",
   "metadata": {},
   "outputs": [],
   "source": [
    "multiply = Multiply(5)"
   ]
  },
  {
   "cell_type": "code",
   "execution_count": 95,
   "id": "f62d5918",
   "metadata": {},
   "outputs": [
    {
     "data": {
      "text/plain": [
       "500"
      ]
     },
     "execution_count": 95,
     "metadata": {},
     "output_type": "execute_result"
    }
   ],
   "source": [
    "multiply.multiply(100)"
   ]
  },
  {
   "cell_type": "code",
   "execution_count": 96,
   "id": "4500240a",
   "metadata": {},
   "outputs": [],
   "source": [
    "f = open(\"multiply_object.pickle\", \"wb\")\n",
    "pickle.dump(multiply, f)\n",
    "f.close()"
   ]
  },
  {
   "cell_type": "code",
   "execution_count": 98,
   "id": "baaa656d",
   "metadata": {},
   "outputs": [],
   "source": [
    "f = open(\"multiply_object.pickle\", \"rb\")\n",
    "test_pickle = pickle.load(f)\n",
    "test_pickle\n",
    "f.close()"
   ]
  },
  {
   "cell_type": "code",
   "execution_count": 99,
   "id": "17d064f7",
   "metadata": {},
   "outputs": [
    {
     "name": "stdout",
     "output_type": "stream",
     "text": [
      "<__main__.Multiply object at 0x000002A7A44F9E08>\n"
     ]
    }
   ],
   "source": [
    "print(test_pickle)"
   ]
  },
  {
   "cell_type": "code",
   "execution_count": 101,
   "id": "aff710f6",
   "metadata": {},
   "outputs": [
    {
     "data": {
      "text/plain": [
       "500"
      ]
     },
     "execution_count": 101,
     "metadata": {},
     "output_type": "execute_result"
    }
   ],
   "source": [
    "test_pickle.multiply(100)"
   ]
  }
 ],
 "metadata": {
  "kernelspec": {
   "display_name": "Python 3 (ipykernel)",
   "language": "python",
   "name": "python3"
  },
  "language_info": {
   "codemirror_mode": {
    "name": "ipython",
    "version": 3
   },
   "file_extension": ".py",
   "mimetype": "text/x-python",
   "name": "python",
   "nbconvert_exporter": "python",
   "pygments_lexer": "ipython3",
   "version": "3.7.13"
  }
 },
 "nbformat": 4,
 "nbformat_minor": 5
}
