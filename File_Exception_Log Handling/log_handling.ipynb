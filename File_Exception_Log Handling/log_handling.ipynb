{
 "cells": [
  {
   "cell_type": "code",
   "execution_count": 2,
   "id": "058a1ff2",
   "metadata": {},
   "outputs": [],
   "source": [
    "import logging"
   ]
  },
  {
   "cell_type": "code",
   "execution_count": 6,
   "id": "1bd9b2a3",
   "metadata": {},
   "outputs": [],
   "source": [
    "logger = logging.getLogger('main')\n",
    "logging.basicConfig(level = logging.DEBUG)\n",
    "# logger.setLevel(logging.ERROR)"
   ]
  },
  {
   "cell_type": "code",
   "execution_count": 10,
   "id": "c0dadfd9",
   "metadata": {},
   "outputs": [],
   "source": [
    "steam_handler = logging.FileHandler(\n",
    "\"My.log\", mode = \"w\", encoding = \"utf8\")\n",
    "logger.addHandler(steam_handler)"
   ]
  },
  {
   "cell_type": "code",
   "execution_count": 7,
   "id": "c066cf13",
   "metadata": {},
   "outputs": [
    {
     "name": "stderr",
     "output_type": "stream",
     "text": [
      "WARNING:root:조심해!\n",
      "ERROR:root:에러났어!\n",
      "CRITICAL:root:망했다!\n"
     ]
    }
   ],
   "source": [
    "logging.debug(\"틀렸잖아!\")\n",
    "logging.info(\"확인해!\")\n",
    "logging.warning(\"조심해!\")\n",
    "logging.error(\"에러났어!\")\n",
    "logging.critical(\"망했다!\")"
   ]
  },
  {
   "cell_type": "code",
   "execution_count": null,
   "id": "6c91aa27",
   "metadata": {},
   "outputs": [],
   "source": [
    "import configparse\n",
    "config = configparser.ConfigParser()\n",
    "\n",
    "config.read('example.cfg')\n",
    "print(config.sections())\n",
    "\n",
    "print()"
   ]
  },
  {
   "cell_type": "markdown",
   "id": "1a301212",
   "metadata": {},
   "source": [
    "## example.cfg"
   ]
  },
  {
   "cell_type": "code",
   "execution_count": 11,
   "id": "754fe020",
   "metadata": {},
   "outputs": [
    {
     "ename": "NameError",
     "evalue": "name 'SectionOne' is not defined",
     "output_type": "error",
     "traceback": [
      "\u001b[1;31m---------------------------------------------------------------------------\u001b[0m",
      "\u001b[1;31mNameError\u001b[0m                                 Traceback (most recent call last)",
      "\u001b[1;32m~\\AppData\\Local\\Temp\\ipykernel_14104\\893672893.py\u001b[0m in \u001b[0;36m<module>\u001b[1;34m\u001b[0m\n\u001b[1;32m----> 1\u001b[1;33m \u001b[1;33m[\u001b[0m\u001b[0mSectionOne\u001b[0m\u001b[1;33m]\u001b[0m\u001b[1;33m\u001b[0m\u001b[1;33m\u001b[0m\u001b[0m\n\u001b[0m\u001b[0;32m      2\u001b[0m \u001b[0mstatus\u001b[0m \u001b[1;33m:\u001b[0m \u001b[0mSingle\u001b[0m\u001b[1;33m\u001b[0m\u001b[1;33m\u001b[0m\u001b[0m\n\u001b[0;32m      3\u001b[0m \u001b[0mName\u001b[0m \u001b[1;33m:\u001b[0m \u001b[0mderek\u001b[0m\u001b[1;33m\u001b[0m\u001b[1;33m\u001b[0m\u001b[0m\n\u001b[0;32m      4\u001b[0m \u001b[0mValue\u001b[0m \u001b[1;33m:\u001b[0m \u001b[0mYes\u001b[0m\u001b[1;33m\u001b[0m\u001b[1;33m\u001b[0m\u001b[0m\n\u001b[0;32m      5\u001b[0m \u001b[0mAge\u001b[0m \u001b[1;33m:\u001b[0m \u001b[1;36m30\u001b[0m\u001b[1;33m\u001b[0m\u001b[1;33m\u001b[0m\u001b[0m\n",
      "\u001b[1;31mNameError\u001b[0m: name 'SectionOne' is not defined"
     ]
    }
   ],
   "source": [
    "[SectionOne]\n",
    "status : Single\n",
    "Name : derek\n",
    "Value : Yes\n",
    "Age : 30\n",
    "Single: True\n",
    "\n",
    "[SectionTwo]\n",
    "FavoriteColor = Green\n",
    "\n",
    "[SectionThree]\n",
    "FamilyName: Johnson"
   ]
  },
  {
   "cell_type": "code",
   "execution_count": null,
   "id": "c0e77876",
   "metadata": {},
   "outputs": [],
   "source": []
  }
 ],
 "metadata": {
  "kernelspec": {
   "display_name": "Python 3 (ipykernel)",
   "language": "python",
   "name": "python3"
  },
  "language_info": {
   "codemirror_mode": {
    "name": "ipython",
    "version": 3
   },
   "file_extension": ".py",
   "mimetype": "text/x-python",
   "name": "python",
   "nbconvert_exporter": "python",
   "pygments_lexer": "ipython3",
   "version": "3.7.13"
  }
 },
 "nbformat": 4,
 "nbformat_minor": 5
}
